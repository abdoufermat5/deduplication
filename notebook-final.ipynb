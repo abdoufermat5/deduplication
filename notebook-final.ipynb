{
 "cells": [
  {
   "cell_type": "code",
   "execution_count": 1,
   "id": "e83a7e0c-ff0d-4daa-8c69-9eb36a781475",
   "metadata": {
    "tags": []
   },
   "outputs": [],
   "source": [
    "import pandas as pd"
   ]
  },
  {
   "cell_type": "markdown",
   "id": "89a37e81-b416-4518-afdc-3938ecb4a127",
   "metadata": {},
   "source": [
    "Pour atteindre nos objectifs nous allons suivre les etapes suivantes:\n",
    "1. [Chargement des données](#load)\n",
    "2. [Nettoyage des données](#clean)\n",
    "3. [Visualisation et analyse des données](#visual)\n",
    "4. [Exploration des techniques de regroupement des données](#explore)"
   ]
  },
  {
   "cell_type": "markdown",
   "id": "c100f2ce-1ea8-4b53-960b-eadeb67098a0",
   "metadata": {},
   "source": [
    "<div id=\"load\"><h1>1. Chargement des données</h1></div>"
   ]
  },
  {
   "cell_type": "code",
   "execution_count": 2,
   "id": "2a9d24e7-9438-4d4e-9411-298f7fe9e2ed",
   "metadata": {
    "tags": []
   },
   "outputs": [],
   "source": [
    "# placer le fichier excel dans le meme repertoire que le notebook ou sinon modifier le path\n",
    "df = pd.read_csv('Dataset - Ads _ Levallois-Perret - 2019-08 - export-ads-levallois-perret-2019-08-27.csv')"
   ]
  },
  {
   "cell_type": "code",
   "execution_count": 3,
   "id": "6f153c02-456a-46ad-90dd-fb889bf03704",
   "metadata": {
    "tags": []
   },
   "outputs": [
    {
     "data": {
      "text/html": [
       "<div>\n",
       "<style scoped>\n",
       "    .dataframe tbody tr th:only-of-type {\n",
       "        vertical-align: middle;\n",
       "    }\n",
       "\n",
       "    .dataframe tbody tr th {\n",
       "        vertical-align: top;\n",
       "    }\n",
       "\n",
       "    .dataframe thead th {\n",
       "        text-align: right;\n",
       "    }\n",
       "</style>\n",
       "<table border=\"1\" class=\"dataframe\">\n",
       "  <thead>\n",
       "    <tr style=\"text-align: right;\">\n",
       "      <th></th>\n",
       "      <th>ID</th>\n",
       "      <th>URL</th>\n",
       "      <th>CRAWL_SOURCE</th>\n",
       "      <th>PROPERTY_TYPE</th>\n",
       "      <th>NEW_BUILD</th>\n",
       "      <th>DESCRIPTION</th>\n",
       "      <th>IMAGES</th>\n",
       "      <th>SURFACE</th>\n",
       "      <th>LAND_SURFACE</th>\n",
       "      <th>BALCONY_SURFACE</th>\n",
       "      <th>...</th>\n",
       "      <th>DEALER_NAME</th>\n",
       "      <th>DEALER_TYPE</th>\n",
       "      <th>CITY_ID</th>\n",
       "      <th>CITY</th>\n",
       "      <th>ZIP_CODE</th>\n",
       "      <th>DEPT_CODE</th>\n",
       "      <th>PUBLICATION_START_DATE</th>\n",
       "      <th>PUBLICATION_END_DATE</th>\n",
       "      <th>LAST_CRAWL_DATE</th>\n",
       "      <th>LAST_PRICE_DECREASE_DATE</th>\n",
       "    </tr>\n",
       "  </thead>\n",
       "  <tbody>\n",
       "    <tr>\n",
       "      <th>0</th>\n",
       "      <td>22c05930-0eb5-11e7-b53d-bbead8ba43fe</td>\n",
       "      <td>http://www.avendrealouer.fr/location/levallois...</td>\n",
       "      <td>A_VENDRE_A_LOUER</td>\n",
       "      <td>APARTMENT</td>\n",
       "      <td>False</td>\n",
       "      <td>Au rez de chaussée d'un bel immeuble récent,ap...</td>\n",
       "      <td>[\"https://cf-medias.avendrealouer.fr/image/_87...</td>\n",
       "      <td>72.0</td>\n",
       "      <td>NaN</td>\n",
       "      <td>NaN</td>\n",
       "      <td>...</td>\n",
       "      <td>Lamirand Et Associes</td>\n",
       "      <td>AGENCY</td>\n",
       "      <td>54178039</td>\n",
       "      <td>Levallois-Perret</td>\n",
       "      <td>92300.0</td>\n",
       "      <td>92</td>\n",
       "      <td>2017-03-22T04:07:56.095</td>\n",
       "      <td>NaN</td>\n",
       "      <td>2017-04-21T18:52:35.733</td>\n",
       "      <td>NaN</td>\n",
       "    </tr>\n",
       "    <tr>\n",
       "      <th>1</th>\n",
       "      <td>8d092fa0-bb99-11e8-a7c9-852783b5a69d</td>\n",
       "      <td>https://www.bienici.com/annonce/ag440414-16547...</td>\n",
       "      <td>BIEN_ICI</td>\n",
       "      <td>APARTMENT</td>\n",
       "      <td>False</td>\n",
       "      <td>Je vous propose un appartement dans la rue Col...</td>\n",
       "      <td>[\"http://photos.ubiflow.net/440414/165474561/p...</td>\n",
       "      <td>48.0</td>\n",
       "      <td>NaN</td>\n",
       "      <td>NaN</td>\n",
       "      <td>...</td>\n",
       "      <td>Proprietes Privees</td>\n",
       "      <td>MANDATARY</td>\n",
       "      <td>54178039</td>\n",
       "      <td>Levallois-Perret</td>\n",
       "      <td>92300.0</td>\n",
       "      <td>92</td>\n",
       "      <td>2018-09-18T11:04:44.461</td>\n",
       "      <td>NaN</td>\n",
       "      <td>2019-06-06T10:08:10.89</td>\n",
       "      <td>2018-09-25</td>\n",
       "    </tr>\n",
       "    <tr>\n",
       "      <th>2</th>\n",
       "      <td>44b6a5c0-3466-11e9-8213-25cc7d9bf5fc</td>\n",
       "      <td>https://www.bellesdemeures.com/annonces/vente/...</td>\n",
       "      <td>BELLES_DEMEURES</td>\n",
       "      <td>APARTMENT</td>\n",
       "      <td>False</td>\n",
       "      <td>Dans un cadre arboré, calme et fleuri, un pent...</td>\n",
       "      <td>[\"https://v.seloger.com/s/width/965/visuels/0/...</td>\n",
       "      <td>267.0</td>\n",
       "      <td>NaN</td>\n",
       "      <td>NaN</td>\n",
       "      <td>...</td>\n",
       "      <td>Propriétés Parisiennes</td>\n",
       "      <td>AGENCY</td>\n",
       "      <td>54178039</td>\n",
       "      <td>Levallois-Perret</td>\n",
       "      <td>92300.0</td>\n",
       "      <td>92</td>\n",
       "      <td>2019-02-19T16:49:03.547</td>\n",
       "      <td>NaN</td>\n",
       "      <td>2019-06-13T08:22:14.314</td>\n",
       "      <td>NaN</td>\n",
       "    </tr>\n",
       "    <tr>\n",
       "      <th>3</th>\n",
       "      <td>e9e07ed0-812f-11e8-82aa-61eacebe4584</td>\n",
       "      <td>https://www.seloger.com/annonces/locations/bur...</td>\n",
       "      <td>SE_LOGER</td>\n",
       "      <td>PREMISES</td>\n",
       "      <td>False</td>\n",
       "      <td>\"Le meilleur coworking flexible de la ville, 5...</td>\n",
       "      <td>[\"https://pix.yanport.com/ads/e9e07ed0-812f-11...</td>\n",
       "      <td>50.0</td>\n",
       "      <td>NaN</td>\n",
       "      <td>NaN</td>\n",
       "      <td>...</td>\n",
       "      <td>Iwg</td>\n",
       "      <td>AGENCY</td>\n",
       "      <td>54178039</td>\n",
       "      <td>Levallois-Perret</td>\n",
       "      <td>92300.0</td>\n",
       "      <td>92</td>\n",
       "      <td>2018-07-06T15:18:59.805</td>\n",
       "      <td>NaN</td>\n",
       "      <td>2019-06-18T10:40:07.405</td>\n",
       "      <td>NaN</td>\n",
       "    </tr>\n",
       "    <tr>\n",
       "      <th>4</th>\n",
       "      <td>872302b0-5a21-11e9-950c-510fefc1ed35</td>\n",
       "      <td>https://www.bellesdemeures.com/annonces/vente/...</td>\n",
       "      <td>BELLES_DEMEURES</td>\n",
       "      <td>HOUSE</td>\n",
       "      <td>False</td>\n",
       "      <td>Levallois - Parc de la Planchette A toute prox...</td>\n",
       "      <td>[\"https://v.seloger.com/s/width/966/visuels/0/...</td>\n",
       "      <td>330.0</td>\n",
       "      <td>NaN</td>\n",
       "      <td>NaN</td>\n",
       "      <td>...</td>\n",
       "      <td>Daniel Feau Neuilly</td>\n",
       "      <td>AGENCY</td>\n",
       "      <td>54178039</td>\n",
       "      <td>Levallois-Perret</td>\n",
       "      <td>92300.0</td>\n",
       "      <td>92</td>\n",
       "      <td>2019-04-08T17:12:20.123</td>\n",
       "      <td>NaN</td>\n",
       "      <td>2019-06-14T15:02:18.155</td>\n",
       "      <td>2019-06-14</td>\n",
       "    </tr>\n",
       "  </tbody>\n",
       "</table>\n",
       "<p>5 rows × 57 columns</p>\n",
       "</div>"
      ],
      "text/plain": [
       "                                     ID  \\\n",
       "0  22c05930-0eb5-11e7-b53d-bbead8ba43fe   \n",
       "1  8d092fa0-bb99-11e8-a7c9-852783b5a69d   \n",
       "2  44b6a5c0-3466-11e9-8213-25cc7d9bf5fc   \n",
       "3  e9e07ed0-812f-11e8-82aa-61eacebe4584   \n",
       "4  872302b0-5a21-11e9-950c-510fefc1ed35   \n",
       "\n",
       "                                                 URL      CRAWL_SOURCE  \\\n",
       "0  http://www.avendrealouer.fr/location/levallois...  A_VENDRE_A_LOUER   \n",
       "1  https://www.bienici.com/annonce/ag440414-16547...          BIEN_ICI   \n",
       "2  https://www.bellesdemeures.com/annonces/vente/...   BELLES_DEMEURES   \n",
       "3  https://www.seloger.com/annonces/locations/bur...          SE_LOGER   \n",
       "4  https://www.bellesdemeures.com/annonces/vente/...   BELLES_DEMEURES   \n",
       "\n",
       "  PROPERTY_TYPE NEW_BUILD                                        DESCRIPTION  \\\n",
       "0     APARTMENT     False  Au rez de chaussée d'un bel immeuble récent,ap...   \n",
       "1     APARTMENT     False  Je vous propose un appartement dans la rue Col...   \n",
       "2     APARTMENT     False  Dans un cadre arboré, calme et fleuri, un pent...   \n",
       "3      PREMISES     False  \"Le meilleur coworking flexible de la ville, 5...   \n",
       "4         HOUSE     False  Levallois - Parc de la Planchette A toute prox...   \n",
       "\n",
       "                                              IMAGES  SURFACE  LAND_SURFACE  \\\n",
       "0  [\"https://cf-medias.avendrealouer.fr/image/_87...     72.0           NaN   \n",
       "1  [\"http://photos.ubiflow.net/440414/165474561/p...     48.0           NaN   \n",
       "2  [\"https://v.seloger.com/s/width/965/visuels/0/...    267.0           NaN   \n",
       "3  [\"https://pix.yanport.com/ads/e9e07ed0-812f-11...     50.0           NaN   \n",
       "4  [\"https://v.seloger.com/s/width/966/visuels/0/...    330.0           NaN   \n",
       "\n",
       "   BALCONY_SURFACE  ...             DEALER_NAME  DEALER_TYPE   CITY_ID  \\\n",
       "0              NaN  ...    Lamirand Et Associes       AGENCY  54178039   \n",
       "1              NaN  ...      Proprietes Privees    MANDATARY  54178039   \n",
       "2              NaN  ...  Propriétés Parisiennes       AGENCY  54178039   \n",
       "3              NaN  ...                     Iwg       AGENCY  54178039   \n",
       "4              NaN  ...     Daniel Feau Neuilly       AGENCY  54178039   \n",
       "\n",
       "               CITY  ZIP_CODE  DEPT_CODE   PUBLICATION_START_DATE  \\\n",
       "0  Levallois-Perret   92300.0         92  2017-03-22T04:07:56.095   \n",
       "1  Levallois-Perret   92300.0         92  2018-09-18T11:04:44.461   \n",
       "2  Levallois-Perret   92300.0         92  2019-02-19T16:49:03.547   \n",
       "3  Levallois-Perret   92300.0         92  2018-07-06T15:18:59.805   \n",
       "4  Levallois-Perret   92300.0         92  2019-04-08T17:12:20.123   \n",
       "\n",
       "   PUBLICATION_END_DATE          LAST_CRAWL_DATE  LAST_PRICE_DECREASE_DATE  \n",
       "0                   NaN  2017-04-21T18:52:35.733                       NaN  \n",
       "1                   NaN   2019-06-06T10:08:10.89                2018-09-25  \n",
       "2                   NaN  2019-06-13T08:22:14.314                       NaN  \n",
       "3                   NaN  2019-06-18T10:40:07.405                       NaN  \n",
       "4                   NaN  2019-06-14T15:02:18.155                2019-06-14  \n",
       "\n",
       "[5 rows x 57 columns]"
      ]
     },
     "execution_count": 3,
     "metadata": {},
     "output_type": "execute_result"
    }
   ],
   "source": [
    "df.head()"
   ]
  },
  {
   "cell_type": "code",
   "execution_count": 4,
   "id": "1ad92d00-17e8-4770-b593-1780fafd7977",
   "metadata": {
    "tags": []
   },
   "outputs": [
    {
     "data": {
      "text/plain": [
       "(2164, 57)"
      ]
     },
     "execution_count": 4,
     "metadata": {},
     "output_type": "execute_result"
    }
   ],
   "source": [
    "df.shape"
   ]
  },
  {
   "cell_type": "markdown",
   "id": "b9cf3668-2324-483d-b61f-2104e74032bf",
   "metadata": {},
   "source": [
    "<div id=\"clean\"><h1>2. Nettoyage des données</h1></div>"
   ]
  },
  {
   "cell_type": "markdown",
   "id": "7666973e-f0c9-4ef6-962b-0285d3bb745b",
   "metadata": {
    "tags": []
   },
   "source": [
    "#### Conversion de type"
   ]
  },
  {
   "cell_type": "code",
   "execution_count": 5,
   "id": "ed2dc826-e427-4d0e-8068-8e11e4e8f493",
   "metadata": {
    "tags": []
   },
   "outputs": [
    {
     "data": {
      "text/plain": [
       "ID                             object\n",
       "URL                            object\n",
       "CRAWL_SOURCE                   object\n",
       "PROPERTY_TYPE                  object\n",
       "NEW_BUILD                      object\n",
       "DESCRIPTION                    object\n",
       "IMAGES                         object\n",
       "SURFACE                       float64\n",
       "LAND_SURFACE                  float64\n",
       "BALCONY_SURFACE               float64\n",
       "TERRACE_SURFACE               float64\n",
       "ROOM_COUNT                    float64\n",
       "BEDROOM_COUNT                 float64\n",
       "BATHROOM_COUNT                float64\n",
       "LUNCHROOM_COUNT               float64\n",
       "TOILET_COUNT                  float64\n",
       "FURNISHED                      object\n",
       "FIREPLACE                     float64\n",
       "AIR_CONDITIONING              float64\n",
       "GARDEN                        float64\n",
       "SWIMMING_POOL                 float64\n",
       "BALCONY                       float64\n",
       "TERRACE                       float64\n",
       "CELLAR                        float64\n",
       "PARKING                          bool\n",
       "PARKING_COUNT                 float64\n",
       "HEATING_TYPES                  object\n",
       "HEATING_MODE                   object\n",
       "FLOOR                         float64\n",
       "FLOOR_COUNT                   float64\n",
       "CONSTRUCTION_YEAR             float64\n",
       "ELEVATOR                       object\n",
       "CARETAKER                      object\n",
       "ENERGY_CONSUMPTION            float64\n",
       "GREENHOUSE_GAS_CONSUMPTION    float64\n",
       "MARKETING_TYPE                 object\n",
       "PRICE                         float64\n",
       "PRICE_M2                      float64\n",
       "PRICE_EVENTS                   object\n",
       "RENTAL_EXPENSES               float64\n",
       "RENTAL_EXPENSES_INCLUDED       object\n",
       "DEPOSIT                       float64\n",
       "FEES                          float64\n",
       "FEES_INCLUDED                  object\n",
       "EXCLUSIVE_MANDATE                bool\n",
       "AGENCIES_UNWANTED              object\n",
       "OCCUPIED                       object\n",
       "DEALER_NAME                    object\n",
       "DEALER_TYPE                    object\n",
       "CITY_ID                         int64\n",
       "CITY                           object\n",
       "ZIP_CODE                      float64\n",
       "DEPT_CODE                       int64\n",
       "PUBLICATION_START_DATE         object\n",
       "PUBLICATION_END_DATE          float64\n",
       "LAST_CRAWL_DATE                object\n",
       "LAST_PRICE_DECREASE_DATE       object\n",
       "dtype: object"
      ]
     },
     "execution_count": 5,
     "metadata": {},
     "output_type": "execute_result"
    }
   ],
   "source": [
    "df.dtypes"
   ]
  },
  {
   "cell_type": "code",
   "execution_count": 6,
   "id": "0ccadc00-af6d-400f-ba4f-e875fa6f164e",
   "metadata": {
    "tags": []
   },
   "outputs": [
    {
     "data": {
      "text/plain": [
       "PUBLICATION_START_DATE      object\n",
       "LAST_CRAWL_DATE             object\n",
       "LAST_PRICE_DECREASE_DATE    object\n",
       "dtype: object"
      ]
     },
     "execution_count": 6,
     "metadata": {},
     "output_type": "execute_result"
    }
   ],
   "source": [
    "# Conversion des types datetime\n",
    "DATETYPE_COLUMNS = ['PUBLICATION_START_DATE', 'LAST_CRAWL_DATE', 'LAST_PRICE_DECREASE_DATE']\n",
    "df[DATETYPE_COLUMNS].dtypes"
   ]
  },
  {
   "cell_type": "code",
   "execution_count": 7,
   "id": "06e7de0f-02e3-4966-bff9-bc94d0a7d620",
   "metadata": {
    "tags": []
   },
   "outputs": [],
   "source": [
    "for column in DATETYPE_COLUMNS:\n",
    "    df[column] = pd.to_datetime(df[column], errors='coerce')"
   ]
  },
  {
   "cell_type": "code",
   "execution_count": 8,
   "id": "853de02f-2d50-464d-b10d-bed41d43fb20",
   "metadata": {
    "tags": []
   },
   "outputs": [
    {
     "data": {
      "text/plain": [
       "PUBLICATION_START_DATE      datetime64[ns]\n",
       "LAST_CRAWL_DATE             datetime64[ns]\n",
       "LAST_PRICE_DECREASE_DATE    datetime64[ns]\n",
       "dtype: object"
      ]
     },
     "execution_count": 8,
     "metadata": {},
     "output_type": "execute_result"
    }
   ],
   "source": [
    "df[DATETYPE_COLUMNS].dtypes"
   ]
  },
  {
   "cell_type": "code",
   "execution_count": null,
   "id": "9df60acd-3698-499c-ba95-b60dc6440707",
   "metadata": {
    "tags": []
   },
   "outputs": [],
   "source": []
  },
  {
   "cell_type": "code",
   "execution_count": 9,
   "id": "a4e6c89f-c3d5-49a7-b126-50a8d99ed332",
   "metadata": {
    "tags": []
   },
   "outputs": [
    {
     "data": {
      "text/plain": [
       "{'NEW_BUILD': array([False, nan, True], dtype=object),\n",
       " 'FURNISHED': array([False, nan, True], dtype=object),\n",
       " 'ELEVATOR': array([True, nan, False], dtype=object),\n",
       " 'CARETAKER': array([nan, False, True], dtype=object),\n",
       " 'RENTAL_EXPENSES_INCLUDED': array([True, nan, False], dtype=object),\n",
       " 'FEES_INCLUDED': array([nan, False, True], dtype=object),\n",
       " 'OCCUPIED': array([nan, False, True], dtype=object)}"
      ]
     },
     "execution_count": 9,
     "metadata": {},
     "output_type": "execute_result"
    }
   ],
   "source": [
    "# Colonnes booleennes\n",
    "suspected_bool_columns = ['NEW_BUILD', 'FURNISHED', 'ELEVATOR', 'CARETAKER', 'RENTAL_EXPENSES_INCLUDED', 'FEES_INCLUDED', 'OCCUPIED']\n",
    "unique_values = {col: df[col].unique() for col in suspected_bool_columns}\n",
    "\n",
    "unique_values"
   ]
  },
  {
   "cell_type": "markdown",
   "id": "1ea8e5b9-eb89-40fd-9499-f2e9a08484ec",
   "metadata": {},
   "source": [
    "On peut voir que ces colonnes sont en effets booléennes avec des valeurs manquantes.\n",
    "On peut soit remplacer les *NaN* \n",
    "- par *False* (si l'information n'est pas fournie dans ce cas on peut supposer ce qu'on veut par exemple qu'une propriété n'est pas meublée ou qu'il n'y a pas d'ascenseur)\n",
    "- par une valeur par defaut: ex la valeur la plus frequente\n",
    "- laisser comme tel\n",
    "\n",
    "On va dans ce qui suit considerer la deuxieme option, remplacer les NaN par la valeur la plus fréquente.\n",
    "\n",
    "Nous allons donc convevrtir en type boolean puis remplacer les NaN par la valeur la plus présente."
   ]
  },
  {
   "cell_type": "code",
   "execution_count": 10,
   "id": "b9158f38-08c4-426e-9073-83f777a72472",
   "metadata": {
    "tags": []
   },
   "outputs": [
    {
     "data": {
      "text/plain": [
       "NEW_BUILD                   0\n",
       "FURNISHED                   0\n",
       "ELEVATOR                    0\n",
       "CARETAKER                   0\n",
       "RENTAL_EXPENSES_INCLUDED    0\n",
       "FEES_INCLUDED               0\n",
       "OCCUPIED                    0\n",
       "dtype: int64"
      ]
     },
     "execution_count": 10,
     "metadata": {},
     "output_type": "execute_result"
    }
   ],
   "source": [
    "# Replace NaN valuas tu \n",
    "for col in suspected_bool_columns:\n",
    "    most_frequent_value = df[col].mode()[0]\n",
    "    df[col] = df[col].fillna(most_frequent_value).astype(bool)\n",
    "\n",
    "# Check again for missing values in the suspected columns\n",
    "missing_values_suspected = df[suspected_bool_columns].isnull().sum()\n",
    "\n",
    "missing_values_suspected"
   ]
  },
  {
   "cell_type": "code",
   "execution_count": 11,
   "id": "bb2682b6-b1a3-40b1-8a5a-26fe4721cd3b",
   "metadata": {
    "tags": []
   },
   "outputs": [
    {
     "data": {
      "text/plain": [
       "{'NEW_BUILD': array([False,  True]),\n",
       " 'FURNISHED': array([False,  True]),\n",
       " 'ELEVATOR': array([ True, False]),\n",
       " 'CARETAKER': array([ True, False]),\n",
       " 'RENTAL_EXPENSES_INCLUDED': array([ True, False]),\n",
       " 'FEES_INCLUDED': array([False,  True]),\n",
       " 'OCCUPIED': array([False,  True])}"
      ]
     },
     "execution_count": 11,
     "metadata": {},
     "output_type": "execute_result"
    }
   ],
   "source": [
    "unique_values = {col: df[col].unique() for col in suspected_bool_columns}\n",
    "\n",
    "unique_values"
   ]
  },
  {
   "cell_type": "code",
   "execution_count": 12,
   "id": "b2464ec1-5f49-40e5-a762-ca8fa605a7b0",
   "metadata": {
    "tags": []
   },
   "outputs": [
    {
     "data": {
      "text/plain": [
       "ID                                    object\n",
       "URL                                   object\n",
       "CRAWL_SOURCE                          object\n",
       "PROPERTY_TYPE                         object\n",
       "NEW_BUILD                               bool\n",
       "DESCRIPTION                           object\n",
       "IMAGES                                object\n",
       "SURFACE                              float64\n",
       "LAND_SURFACE                         float64\n",
       "BALCONY_SURFACE                      float64\n",
       "TERRACE_SURFACE                      float64\n",
       "ROOM_COUNT                           float64\n",
       "BEDROOM_COUNT                        float64\n",
       "BATHROOM_COUNT                       float64\n",
       "LUNCHROOM_COUNT                      float64\n",
       "TOILET_COUNT                         float64\n",
       "FURNISHED                               bool\n",
       "FIREPLACE                            float64\n",
       "AIR_CONDITIONING                     float64\n",
       "GARDEN                               float64\n",
       "SWIMMING_POOL                        float64\n",
       "BALCONY                              float64\n",
       "TERRACE                              float64\n",
       "CELLAR                               float64\n",
       "PARKING                                 bool\n",
       "PARKING_COUNT                        float64\n",
       "HEATING_TYPES                         object\n",
       "HEATING_MODE                          object\n",
       "FLOOR                                float64\n",
       "FLOOR_COUNT                          float64\n",
       "CONSTRUCTION_YEAR                    float64\n",
       "ELEVATOR                                bool\n",
       "CARETAKER                               bool\n",
       "ENERGY_CONSUMPTION                   float64\n",
       "GREENHOUSE_GAS_CONSUMPTION           float64\n",
       "MARKETING_TYPE                        object\n",
       "PRICE                                float64\n",
       "PRICE_M2                             float64\n",
       "PRICE_EVENTS                          object\n",
       "RENTAL_EXPENSES                      float64\n",
       "RENTAL_EXPENSES_INCLUDED                bool\n",
       "DEPOSIT                              float64\n",
       "FEES                                 float64\n",
       "FEES_INCLUDED                           bool\n",
       "EXCLUSIVE_MANDATE                       bool\n",
       "AGENCIES_UNWANTED                     object\n",
       "OCCUPIED                                bool\n",
       "DEALER_NAME                           object\n",
       "DEALER_TYPE                           object\n",
       "CITY_ID                                int64\n",
       "CITY                                  object\n",
       "ZIP_CODE                             float64\n",
       "DEPT_CODE                              int64\n",
       "PUBLICATION_START_DATE        datetime64[ns]\n",
       "PUBLICATION_END_DATE                 float64\n",
       "LAST_CRAWL_DATE               datetime64[ns]\n",
       "LAST_PRICE_DECREASE_DATE      datetime64[ns]\n",
       "dtype: object"
      ]
     },
     "execution_count": 12,
     "metadata": {},
     "output_type": "execute_result"
    }
   ],
   "source": [
    "df.dtypes"
   ]
  },
  {
   "cell_type": "code",
   "execution_count": null,
   "id": "88ec2519-8062-40c0-b955-791af3b30fc9",
   "metadata": {},
   "outputs": [],
   "source": []
  },
  {
   "cell_type": "markdown",
   "id": "8330f3b7-74b9-4c97-8d93-911b25b52193",
   "metadata": {
    "tags": []
   },
   "source": [
    "#### Verifications doublons"
   ]
  },
  {
   "cell_type": "code",
   "execution_count": 13,
   "id": "ef73195d-958e-4d6c-996b-89ccd20a674c",
   "metadata": {
    "tags": []
   },
   "outputs": [
    {
     "data": {
      "text/plain": [
       "0"
      ]
     },
     "execution_count": 13,
     "metadata": {},
     "output_type": "execute_result"
    }
   ],
   "source": [
    "# y'a t'il des lignes en doubles dans le dataset??\n",
    "duplicate_rows = df[df.duplicated()]\n",
    "\n",
    "\n",
    "len(duplicate_rows)"
   ]
  },
  {
   "cell_type": "markdown",
   "id": "77f78dd3-d1b0-49f4-a984-27f0654f5359",
   "metadata": {},
   "source": [
    "Il n'y a pas de doublons on a donc fini le projet ^^ .\n",
    "\n",
    "---\n",
    "Mais nous allons exploiter davantage le dataset pour voir si nous pouvons trouver d'autres critéres qui nous permettent de voir les doublons"
   ]
  },
  {
   "cell_type": "markdown",
   "id": "33bc2938-4fab-4553-aa78-f4648856e3fe",
   "metadata": {
    "tags": []
   },
   "source": [
    "#### Suppression de colonnes à valeurs manquantes"
   ]
  },
  {
   "cell_type": "code",
   "execution_count": 14,
   "id": "96e73500-5be5-4e96-8be1-5221b68fc032",
   "metadata": {
    "tags": []
   },
   "outputs": [],
   "source": [
    "missing_val = df.isnull().sum()"
   ]
  },
  {
   "cell_type": "code",
   "execution_count": 15,
   "id": "5d133eda-3dee-4f85-aa85-a7a6624cb178",
   "metadata": {
    "tags": []
   },
   "outputs": [
    {
     "data": {
      "text/plain": [
       "FIREPLACE                     2164\n",
       "LUNCHROOM_COUNT               2164\n",
       "CELLAR                        2164\n",
       "BALCONY                       2164\n",
       "AIR_CONDITIONING              2164\n",
       "ENERGY_CONSUMPTION            2164\n",
       "TOILET_COUNT                  2164\n",
       "GREENHOUSE_GAS_CONSUMPTION    2164\n",
       "BATHROOM_COUNT                2164\n",
       "PUBLICATION_END_DATE          2164\n",
       "BALCONY_SURFACE               2164\n",
       "LAND_SURFACE                  2161\n",
       "SWIMMING_POOL                 2158\n",
       "GARDEN                        2150\n",
       "TERRACE_SURFACE               2139\n",
       "DEPOSIT                       2109\n",
       "TERRACE                       2078\n",
       "FEES                          2070\n",
       "PARKING_COUNT                 2007\n",
       "AGENCIES_UNWANTED             1963\n",
       "LAST_PRICE_DECREASE_DATE      1824\n",
       "RENTAL_EXPENSES               1723\n",
       "FLOOR_COUNT                   1699\n",
       "CONSTRUCTION_YEAR             1661\n",
       "HEATING_MODE                  1511\n",
       "FLOOR                         1504\n",
       "BEDROOM_COUNT                 1468\n",
       "ROOM_COUNT                     329\n",
       "PRICE_M2                       173\n",
       "SURFACE                        114\n",
       "DEALER_NAME                     87\n",
       "PRICE                           60\n",
       "DESCRIPTION                      4\n",
       "ZIP_CODE                         1\n",
       "dtype: int64"
      ]
     },
     "execution_count": 15,
     "metadata": {},
     "output_type": "execute_result"
    }
   ],
   "source": [
    "missing_val[missing_val>0].sort_values(ascending=False)"
   ]
  },
  {
   "cell_type": "markdown",
   "id": "1369272e-6454-4ee3-8a0b-ad8961d8111d",
   "metadata": {},
   "source": [
    "---\n",
    "Comme on peut le constater plusieurs colonnes ont des valeurs manquantes. Il serait inutile de garder certaines informations sachant qu'elles n'apportent rien de concret.\n",
    "Nous allons supprimer toutes colonnes qui a plus de <b><span style='color: green;font-size:16px;'>55%</span></b> de valeurs manquantes."
   ]
  },
  {
   "cell_type": "code",
   "execution_count": null,
   "id": "3caffa70-506f-4f0b-9153-6c1f3b54f5c0",
   "metadata": {},
   "outputs": [],
   "source": []
  },
  {
   "cell_type": "code",
   "execution_count": 16,
   "id": "8bc91d67-7cdb-4b73-aedf-4a3edfcec621",
   "metadata": {
    "tags": []
   },
   "outputs": [],
   "source": [
    "threshold = 0.55 * len(df)"
   ]
  },
  {
   "cell_type": "code",
   "execution_count": 17,
   "id": "82becedf-fdda-4e96-a34a-8fc0fdf0e3fd",
   "metadata": {
    "tags": []
   },
   "outputs": [
    {
     "name": "stdout",
     "output_type": "stream",
     "text": [
      "Toute colonne avec plus de 1190.2 valeurs manquantes sera automatiquement supprimé\n"
     ]
    }
   ],
   "source": [
    "print('Toute colonne avec plus de',threshold, 'valeurs manquantes sera automatiquement supprimé')"
   ]
  },
  {
   "cell_type": "code",
   "execution_count": 18,
   "id": "22d777ac-7371-449a-b0af-b9b9785ae601",
   "metadata": {
    "tags": []
   },
   "outputs": [
    {
     "name": "stdout",
     "output_type": "stream",
     "text": [
      "Colonnes a supprimer: \n",
      "\n",
      "CELLAR                        2164\n",
      "BALCONY                       2164\n",
      "PUBLICATION_END_DATE          2164\n",
      "GREENHOUSE_GAS_CONSUMPTION    2164\n",
      "BATHROOM_COUNT                2164\n",
      "LUNCHROOM_COUNT               2164\n",
      "TOILET_COUNT                  2164\n",
      "FIREPLACE                     2164\n",
      "AIR_CONDITIONING              2164\n",
      "ENERGY_CONSUMPTION            2164\n",
      "BALCONY_SURFACE               2164\n",
      "LAND_SURFACE                  2161\n",
      "SWIMMING_POOL                 2158\n",
      "GARDEN                        2150\n",
      "TERRACE_SURFACE               2139\n",
      "DEPOSIT                       2109\n",
      "TERRACE                       2078\n",
      "FEES                          2070\n",
      "PARKING_COUNT                 2007\n",
      "AGENCIES_UNWANTED             1963\n",
      "LAST_PRICE_DECREASE_DATE      1824\n",
      "RENTAL_EXPENSES               1723\n",
      "FLOOR_COUNT                   1699\n",
      "CONSTRUCTION_YEAR             1661\n",
      "HEATING_MODE                  1511\n",
      "FLOOR                         1504\n",
      "BEDROOM_COUNT                 1468\n",
      "dtype: int64\n"
     ]
    }
   ],
   "source": [
    "print('Colonnes a supprimer: ', end='\\n\\n')\n",
    "print(missing_val[missing_val>=threshold].sort_values(ascending=False))"
   ]
  },
  {
   "cell_type": "code",
   "execution_count": 19,
   "id": "254a4f0d-77bd-4866-893d-268a82bb18c7",
   "metadata": {
    "tags": []
   },
   "outputs": [],
   "source": [
    "df_cleaned = df.drop(columns=missing_val[missing_val >= threshold].index)"
   ]
  },
  {
   "cell_type": "code",
   "execution_count": 20,
   "id": "b979efb8-eacc-428c-a00c-4aa2c53d4ef3",
   "metadata": {
    "tags": []
   },
   "outputs": [
    {
     "name": "stdout",
     "output_type": "stream",
     "text": [
      "taille avant suppression:  (2164, 57) taille apres suppression:  (2164, 30)\n"
     ]
    }
   ],
   "source": [
    "print('taille avant suppression: ', df.shape, 'taille apres suppression: ', df_cleaned.shape)"
   ]
  },
  {
   "cell_type": "code",
   "execution_count": 21,
   "id": "65211d4c-8456-417d-abe9-37cd4fd28edb",
   "metadata": {
    "tags": []
   },
   "outputs": [
    {
     "data": {
      "text/html": [
       "<div>\n",
       "<style scoped>\n",
       "    .dataframe tbody tr th:only-of-type {\n",
       "        vertical-align: middle;\n",
       "    }\n",
       "\n",
       "    .dataframe tbody tr th {\n",
       "        vertical-align: top;\n",
       "    }\n",
       "\n",
       "    .dataframe thead th {\n",
       "        text-align: right;\n",
       "    }\n",
       "</style>\n",
       "<table border=\"1\" class=\"dataframe\">\n",
       "  <thead>\n",
       "    <tr style=\"text-align: right;\">\n",
       "      <th></th>\n",
       "      <th>ID</th>\n",
       "      <th>URL</th>\n",
       "      <th>CRAWL_SOURCE</th>\n",
       "      <th>PROPERTY_TYPE</th>\n",
       "      <th>NEW_BUILD</th>\n",
       "      <th>DESCRIPTION</th>\n",
       "      <th>IMAGES</th>\n",
       "      <th>SURFACE</th>\n",
       "      <th>ROOM_COUNT</th>\n",
       "      <th>FURNISHED</th>\n",
       "      <th>...</th>\n",
       "      <th>EXCLUSIVE_MANDATE</th>\n",
       "      <th>OCCUPIED</th>\n",
       "      <th>DEALER_NAME</th>\n",
       "      <th>DEALER_TYPE</th>\n",
       "      <th>CITY_ID</th>\n",
       "      <th>CITY</th>\n",
       "      <th>ZIP_CODE</th>\n",
       "      <th>DEPT_CODE</th>\n",
       "      <th>PUBLICATION_START_DATE</th>\n",
       "      <th>LAST_CRAWL_DATE</th>\n",
       "    </tr>\n",
       "  </thead>\n",
       "  <tbody>\n",
       "    <tr>\n",
       "      <th>0</th>\n",
       "      <td>22c05930-0eb5-11e7-b53d-bbead8ba43fe</td>\n",
       "      <td>http://www.avendrealouer.fr/location/levallois...</td>\n",
       "      <td>A_VENDRE_A_LOUER</td>\n",
       "      <td>APARTMENT</td>\n",
       "      <td>False</td>\n",
       "      <td>Au rez de chaussée d'un bel immeuble récent,ap...</td>\n",
       "      <td>[\"https://cf-medias.avendrealouer.fr/image/_87...</td>\n",
       "      <td>72.0</td>\n",
       "      <td>3.0</td>\n",
       "      <td>False</td>\n",
       "      <td>...</td>\n",
       "      <td>False</td>\n",
       "      <td>False</td>\n",
       "      <td>Lamirand Et Associes</td>\n",
       "      <td>AGENCY</td>\n",
       "      <td>54178039</td>\n",
       "      <td>Levallois-Perret</td>\n",
       "      <td>92300.0</td>\n",
       "      <td>92</td>\n",
       "      <td>2017-03-22 04:07:56.095</td>\n",
       "      <td>2017-04-21 18:52:35.733</td>\n",
       "    </tr>\n",
       "    <tr>\n",
       "      <th>1</th>\n",
       "      <td>8d092fa0-bb99-11e8-a7c9-852783b5a69d</td>\n",
       "      <td>https://www.bienici.com/annonce/ag440414-16547...</td>\n",
       "      <td>BIEN_ICI</td>\n",
       "      <td>APARTMENT</td>\n",
       "      <td>False</td>\n",
       "      <td>Je vous propose un appartement dans la rue Col...</td>\n",
       "      <td>[\"http://photos.ubiflow.net/440414/165474561/p...</td>\n",
       "      <td>48.0</td>\n",
       "      <td>2.0</td>\n",
       "      <td>False</td>\n",
       "      <td>...</td>\n",
       "      <td>False</td>\n",
       "      <td>False</td>\n",
       "      <td>Proprietes Privees</td>\n",
       "      <td>MANDATARY</td>\n",
       "      <td>54178039</td>\n",
       "      <td>Levallois-Perret</td>\n",
       "      <td>92300.0</td>\n",
       "      <td>92</td>\n",
       "      <td>2018-09-18 11:04:44.461</td>\n",
       "      <td>2019-06-06 10:08:10.890</td>\n",
       "    </tr>\n",
       "    <tr>\n",
       "      <th>2</th>\n",
       "      <td>44b6a5c0-3466-11e9-8213-25cc7d9bf5fc</td>\n",
       "      <td>https://www.bellesdemeures.com/annonces/vente/...</td>\n",
       "      <td>BELLES_DEMEURES</td>\n",
       "      <td>APARTMENT</td>\n",
       "      <td>False</td>\n",
       "      <td>Dans un cadre arboré, calme et fleuri, un pent...</td>\n",
       "      <td>[\"https://v.seloger.com/s/width/965/visuels/0/...</td>\n",
       "      <td>267.0</td>\n",
       "      <td>6.0</td>\n",
       "      <td>False</td>\n",
       "      <td>...</td>\n",
       "      <td>False</td>\n",
       "      <td>False</td>\n",
       "      <td>Propriétés Parisiennes</td>\n",
       "      <td>AGENCY</td>\n",
       "      <td>54178039</td>\n",
       "      <td>Levallois-Perret</td>\n",
       "      <td>92300.0</td>\n",
       "      <td>92</td>\n",
       "      <td>2019-02-19 16:49:03.547</td>\n",
       "      <td>2019-06-13 08:22:14.314</td>\n",
       "    </tr>\n",
       "    <tr>\n",
       "      <th>3</th>\n",
       "      <td>e9e07ed0-812f-11e8-82aa-61eacebe4584</td>\n",
       "      <td>https://www.seloger.com/annonces/locations/bur...</td>\n",
       "      <td>SE_LOGER</td>\n",
       "      <td>PREMISES</td>\n",
       "      <td>False</td>\n",
       "      <td>\"Le meilleur coworking flexible de la ville, 5...</td>\n",
       "      <td>[\"https://pix.yanport.com/ads/e9e07ed0-812f-11...</td>\n",
       "      <td>50.0</td>\n",
       "      <td>0.0</td>\n",
       "      <td>False</td>\n",
       "      <td>...</td>\n",
       "      <td>False</td>\n",
       "      <td>False</td>\n",
       "      <td>Iwg</td>\n",
       "      <td>AGENCY</td>\n",
       "      <td>54178039</td>\n",
       "      <td>Levallois-Perret</td>\n",
       "      <td>92300.0</td>\n",
       "      <td>92</td>\n",
       "      <td>2018-07-06 15:18:59.805</td>\n",
       "      <td>2019-06-18 10:40:07.405</td>\n",
       "    </tr>\n",
       "    <tr>\n",
       "      <th>4</th>\n",
       "      <td>872302b0-5a21-11e9-950c-510fefc1ed35</td>\n",
       "      <td>https://www.bellesdemeures.com/annonces/vente/...</td>\n",
       "      <td>BELLES_DEMEURES</td>\n",
       "      <td>HOUSE</td>\n",
       "      <td>False</td>\n",
       "      <td>Levallois - Parc de la Planchette A toute prox...</td>\n",
       "      <td>[\"https://v.seloger.com/s/width/966/visuels/0/...</td>\n",
       "      <td>330.0</td>\n",
       "      <td>8.0</td>\n",
       "      <td>False</td>\n",
       "      <td>...</td>\n",
       "      <td>False</td>\n",
       "      <td>False</td>\n",
       "      <td>Daniel Feau Neuilly</td>\n",
       "      <td>AGENCY</td>\n",
       "      <td>54178039</td>\n",
       "      <td>Levallois-Perret</td>\n",
       "      <td>92300.0</td>\n",
       "      <td>92</td>\n",
       "      <td>2019-04-08 17:12:20.123</td>\n",
       "      <td>2019-06-14 15:02:18.155</td>\n",
       "    </tr>\n",
       "  </tbody>\n",
       "</table>\n",
       "<p>5 rows × 30 columns</p>\n",
       "</div>"
      ],
      "text/plain": [
       "                                     ID  \\\n",
       "0  22c05930-0eb5-11e7-b53d-bbead8ba43fe   \n",
       "1  8d092fa0-bb99-11e8-a7c9-852783b5a69d   \n",
       "2  44b6a5c0-3466-11e9-8213-25cc7d9bf5fc   \n",
       "3  e9e07ed0-812f-11e8-82aa-61eacebe4584   \n",
       "4  872302b0-5a21-11e9-950c-510fefc1ed35   \n",
       "\n",
       "                                                 URL      CRAWL_SOURCE  \\\n",
       "0  http://www.avendrealouer.fr/location/levallois...  A_VENDRE_A_LOUER   \n",
       "1  https://www.bienici.com/annonce/ag440414-16547...          BIEN_ICI   \n",
       "2  https://www.bellesdemeures.com/annonces/vente/...   BELLES_DEMEURES   \n",
       "3  https://www.seloger.com/annonces/locations/bur...          SE_LOGER   \n",
       "4  https://www.bellesdemeures.com/annonces/vente/...   BELLES_DEMEURES   \n",
       "\n",
       "  PROPERTY_TYPE  NEW_BUILD                                        DESCRIPTION  \\\n",
       "0     APARTMENT      False  Au rez de chaussée d'un bel immeuble récent,ap...   \n",
       "1     APARTMENT      False  Je vous propose un appartement dans la rue Col...   \n",
       "2     APARTMENT      False  Dans un cadre arboré, calme et fleuri, un pent...   \n",
       "3      PREMISES      False  \"Le meilleur coworking flexible de la ville, 5...   \n",
       "4         HOUSE      False  Levallois - Parc de la Planchette A toute prox...   \n",
       "\n",
       "                                              IMAGES  SURFACE  ROOM_COUNT  \\\n",
       "0  [\"https://cf-medias.avendrealouer.fr/image/_87...     72.0         3.0   \n",
       "1  [\"http://photos.ubiflow.net/440414/165474561/p...     48.0         2.0   \n",
       "2  [\"https://v.seloger.com/s/width/965/visuels/0/...    267.0         6.0   \n",
       "3  [\"https://pix.yanport.com/ads/e9e07ed0-812f-11...     50.0         0.0   \n",
       "4  [\"https://v.seloger.com/s/width/966/visuels/0/...    330.0         8.0   \n",
       "\n",
       "   FURNISHED  ...  EXCLUSIVE_MANDATE OCCUPIED             DEALER_NAME  \\\n",
       "0      False  ...              False    False    Lamirand Et Associes   \n",
       "1      False  ...              False    False      Proprietes Privees   \n",
       "2      False  ...              False    False  Propriétés Parisiennes   \n",
       "3      False  ...              False    False                     Iwg   \n",
       "4      False  ...              False    False     Daniel Feau Neuilly   \n",
       "\n",
       "   DEALER_TYPE   CITY_ID              CITY  ZIP_CODE DEPT_CODE  \\\n",
       "0       AGENCY  54178039  Levallois-Perret   92300.0        92   \n",
       "1    MANDATARY  54178039  Levallois-Perret   92300.0        92   \n",
       "2       AGENCY  54178039  Levallois-Perret   92300.0        92   \n",
       "3       AGENCY  54178039  Levallois-Perret   92300.0        92   \n",
       "4       AGENCY  54178039  Levallois-Perret   92300.0        92   \n",
       "\n",
       "   PUBLICATION_START_DATE         LAST_CRAWL_DATE  \n",
       "0 2017-03-22 04:07:56.095 2017-04-21 18:52:35.733  \n",
       "1 2018-09-18 11:04:44.461 2019-06-06 10:08:10.890  \n",
       "2 2019-02-19 16:49:03.547 2019-06-13 08:22:14.314  \n",
       "3 2018-07-06 15:18:59.805 2019-06-18 10:40:07.405  \n",
       "4 2019-04-08 17:12:20.123 2019-06-14 15:02:18.155  \n",
       "\n",
       "[5 rows x 30 columns]"
      ]
     },
     "execution_count": 21,
     "metadata": {},
     "output_type": "execute_result"
    }
   ],
   "source": [
    "df_cleaned.head()"
   ]
  },
  {
   "cell_type": "code",
   "execution_count": 22,
   "id": "7c3e1ed0-5407-4043-9514-1a955fc2ba40",
   "metadata": {
    "tags": []
   },
   "outputs": [
    {
     "data": {
      "text/plain": [
       "ROOM_COUNT                  329\n",
       "PRICE_M2                    173\n",
       "SURFACE                     114\n",
       "DEALER_NAME                  87\n",
       "PRICE                        60\n",
       "DESCRIPTION                   4\n",
       "ZIP_CODE                      1\n",
       "PUBLICATION_START_DATE        0\n",
       "DEPT_CODE                     0\n",
       "CITY                          0\n",
       "PRICE_EVENTS                  0\n",
       "CITY_ID                       0\n",
       "DEALER_TYPE                   0\n",
       "OCCUPIED                      0\n",
       "EXCLUSIVE_MANDATE             0\n",
       "FEES_INCLUDED                 0\n",
       "RENTAL_EXPENSES_INCLUDED      0\n",
       "ID                            0\n",
       "URL                           0\n",
       "MARKETING_TYPE                0\n",
       "CARETAKER                     0\n",
       "ELEVATOR                      0\n",
       "HEATING_TYPES                 0\n",
       "PARKING                       0\n",
       "FURNISHED                     0\n",
       "IMAGES                        0\n",
       "NEW_BUILD                     0\n",
       "PROPERTY_TYPE                 0\n",
       "CRAWL_SOURCE                  0\n",
       "LAST_CRAWL_DATE               0\n",
       "dtype: int64"
      ]
     },
     "execution_count": 22,
     "metadata": {},
     "output_type": "execute_result"
    }
   ],
   "source": [
    "missing_val = df_cleaned.isnull().sum()\n",
    "missing_val[missing_val>=0].sort_values(ascending=False)"
   ]
  },
  {
   "cell_type": "markdown",
   "id": "072032ab-fe1e-4944-8899-6e0646eaaa52",
   "metadata": {
    "tags": []
   },
   "source": [
    "On a toujours des valeurs manquantes pour certaines colonnes.\n",
    "Pour traiter ces valeurs manquantes, on peut adopter plusieurs strategies:\n",
    "\n",
    "- ROOM_COUNT, SURFACE, PRICE, PRICE_M2: Ces colonnes sont quantitatives. On peut remplacer les valeurs manquantes par la médiane ou la moyenne. Une autre option serait de supprimer les lignes avec des valeurs manquantes si le nombre est faible.\n",
    "- DEALER_NAME, DESCRIPTION: Ce sont des colonnes textuelles. Nous pouvons remplacer les valeurs manquantes par une chaîne de caractères comme \"Inconnu\" ou \"Non fourni\".\n",
    "- ZIP_CODE: De ce qu'on peut voir tous les immeubles sont dans le 92300 donc on remplace par cette valeur."
   ]
  },
  {
   "cell_type": "code",
   "execution_count": 23,
   "id": "1c250a6c-11ca-4b16-a987-78ffe3a8a24d",
   "metadata": {
    "tags": []
   },
   "outputs": [],
   "source": [
    "# remplacer les valeurs manquantes par la mediane\n",
    "quantitative_columns = ['ROOM_COUNT', 'SURFACE', 'PRICE', 'PRICE_M2']\n",
    "for col in quantitative_columns:\n",
    "    median_value = df_cleaned[col].median()\n",
    "    df_cleaned[col].fillna(median_value, inplace=True)"
   ]
  },
  {
   "cell_type": "code",
   "execution_count": 24,
   "id": "5bc1f39d-5551-444c-9898-52f9c54919a2",
   "metadata": {
    "tags": []
   },
   "outputs": [],
   "source": [
    "# remplacer les valeurs manquantes par 'indefini'\n",
    "textual_columns = ['DEALER_NAME', 'DESCRIPTION']\n",
    "for col in textual_columns:\n",
    "    df_cleaned[col].fillna('Indefini', inplace=True)"
   ]
  },
  {
   "cell_type": "code",
   "execution_count": 25,
   "id": "02939043-4a0d-4997-a789-fe2b37775d7e",
   "metadata": {
    "tags": []
   },
   "outputs": [],
   "source": [
    "# remplacer les valeurs manquantes par le mode\n",
    "mode_value = df['ZIP_CODE'].mode()[0]\n",
    "df_cleaned['ZIP_CODE'].fillna(mode_value, inplace=True)"
   ]
  },
  {
   "cell_type": "code",
   "execution_count": 26,
   "id": "2f85b020-3b3e-4d88-8607-7e62eaf744f5",
   "metadata": {
    "tags": []
   },
   "outputs": [
    {
     "data": {
      "text/plain": [
       "ID                          0\n",
       "URL                         0\n",
       "PUBLICATION_START_DATE      0\n",
       "DEPT_CODE                   0\n",
       "ZIP_CODE                    0\n",
       "CITY                        0\n",
       "CITY_ID                     0\n",
       "DEALER_TYPE                 0\n",
       "DEALER_NAME                 0\n",
       "OCCUPIED                    0\n",
       "EXCLUSIVE_MANDATE           0\n",
       "FEES_INCLUDED               0\n",
       "RENTAL_EXPENSES_INCLUDED    0\n",
       "PRICE_EVENTS                0\n",
       "PRICE_M2                    0\n",
       "PRICE                       0\n",
       "MARKETING_TYPE              0\n",
       "CARETAKER                   0\n",
       "ELEVATOR                    0\n",
       "HEATING_TYPES               0\n",
       "PARKING                     0\n",
       "FURNISHED                   0\n",
       "ROOM_COUNT                  0\n",
       "SURFACE                     0\n",
       "IMAGES                      0\n",
       "DESCRIPTION                 0\n",
       "NEW_BUILD                   0\n",
       "PROPERTY_TYPE               0\n",
       "CRAWL_SOURCE                0\n",
       "LAST_CRAWL_DATE             0\n",
       "dtype: int64"
      ]
     },
     "execution_count": 26,
     "metadata": {},
     "output_type": "execute_result"
    }
   ],
   "source": [
    "missing_val = df_cleaned.isnull().sum()\n",
    "missing_val[missing_val>=0].sort_values(ascending=False)"
   ]
  },
  {
   "cell_type": "code",
   "execution_count": 27,
   "id": "8c03d99c-bf58-4dd3-908b-11536d1899dd",
   "metadata": {
    "tags": []
   },
   "outputs": [
    {
     "data": {
      "text/html": [
       "<div>\n",
       "<style scoped>\n",
       "    .dataframe tbody tr th:only-of-type {\n",
       "        vertical-align: middle;\n",
       "    }\n",
       "\n",
       "    .dataframe tbody tr th {\n",
       "        vertical-align: top;\n",
       "    }\n",
       "\n",
       "    .dataframe thead th {\n",
       "        text-align: right;\n",
       "    }\n",
       "</style>\n",
       "<table border=\"1\" class=\"dataframe\">\n",
       "  <thead>\n",
       "    <tr style=\"text-align: right;\">\n",
       "      <th></th>\n",
       "      <th>ID</th>\n",
       "      <th>URL</th>\n",
       "      <th>CRAWL_SOURCE</th>\n",
       "      <th>PROPERTY_TYPE</th>\n",
       "      <th>NEW_BUILD</th>\n",
       "      <th>DESCRIPTION</th>\n",
       "      <th>IMAGES</th>\n",
       "      <th>SURFACE</th>\n",
       "      <th>ROOM_COUNT</th>\n",
       "      <th>FURNISHED</th>\n",
       "      <th>...</th>\n",
       "      <th>EXCLUSIVE_MANDATE</th>\n",
       "      <th>OCCUPIED</th>\n",
       "      <th>DEALER_NAME</th>\n",
       "      <th>DEALER_TYPE</th>\n",
       "      <th>CITY_ID</th>\n",
       "      <th>CITY</th>\n",
       "      <th>ZIP_CODE</th>\n",
       "      <th>DEPT_CODE</th>\n",
       "      <th>PUBLICATION_START_DATE</th>\n",
       "      <th>LAST_CRAWL_DATE</th>\n",
       "    </tr>\n",
       "  </thead>\n",
       "  <tbody>\n",
       "    <tr>\n",
       "      <th>0</th>\n",
       "      <td>22c05930-0eb5-11e7-b53d-bbead8ba43fe</td>\n",
       "      <td>http://www.avendrealouer.fr/location/levallois...</td>\n",
       "      <td>A_VENDRE_A_LOUER</td>\n",
       "      <td>APARTMENT</td>\n",
       "      <td>False</td>\n",
       "      <td>Au rez de chaussée d'un bel immeuble récent,ap...</td>\n",
       "      <td>[\"https://cf-medias.avendrealouer.fr/image/_87...</td>\n",
       "      <td>72.0</td>\n",
       "      <td>3.0</td>\n",
       "      <td>False</td>\n",
       "      <td>...</td>\n",
       "      <td>False</td>\n",
       "      <td>False</td>\n",
       "      <td>Lamirand Et Associes</td>\n",
       "      <td>AGENCY</td>\n",
       "      <td>54178039</td>\n",
       "      <td>Levallois-Perret</td>\n",
       "      <td>92300.0</td>\n",
       "      <td>92</td>\n",
       "      <td>2017-03-22 04:07:56.095</td>\n",
       "      <td>2017-04-21 18:52:35.733</td>\n",
       "    </tr>\n",
       "    <tr>\n",
       "      <th>1</th>\n",
       "      <td>8d092fa0-bb99-11e8-a7c9-852783b5a69d</td>\n",
       "      <td>https://www.bienici.com/annonce/ag440414-16547...</td>\n",
       "      <td>BIEN_ICI</td>\n",
       "      <td>APARTMENT</td>\n",
       "      <td>False</td>\n",
       "      <td>Je vous propose un appartement dans la rue Col...</td>\n",
       "      <td>[\"http://photos.ubiflow.net/440414/165474561/p...</td>\n",
       "      <td>48.0</td>\n",
       "      <td>2.0</td>\n",
       "      <td>False</td>\n",
       "      <td>...</td>\n",
       "      <td>False</td>\n",
       "      <td>False</td>\n",
       "      <td>Proprietes Privees</td>\n",
       "      <td>MANDATARY</td>\n",
       "      <td>54178039</td>\n",
       "      <td>Levallois-Perret</td>\n",
       "      <td>92300.0</td>\n",
       "      <td>92</td>\n",
       "      <td>2018-09-18 11:04:44.461</td>\n",
       "      <td>2019-06-06 10:08:10.890</td>\n",
       "    </tr>\n",
       "    <tr>\n",
       "      <th>2</th>\n",
       "      <td>44b6a5c0-3466-11e9-8213-25cc7d9bf5fc</td>\n",
       "      <td>https://www.bellesdemeures.com/annonces/vente/...</td>\n",
       "      <td>BELLES_DEMEURES</td>\n",
       "      <td>APARTMENT</td>\n",
       "      <td>False</td>\n",
       "      <td>Dans un cadre arboré, calme et fleuri, un pent...</td>\n",
       "      <td>[\"https://v.seloger.com/s/width/965/visuels/0/...</td>\n",
       "      <td>267.0</td>\n",
       "      <td>6.0</td>\n",
       "      <td>False</td>\n",
       "      <td>...</td>\n",
       "      <td>False</td>\n",
       "      <td>False</td>\n",
       "      <td>Propriétés Parisiennes</td>\n",
       "      <td>AGENCY</td>\n",
       "      <td>54178039</td>\n",
       "      <td>Levallois-Perret</td>\n",
       "      <td>92300.0</td>\n",
       "      <td>92</td>\n",
       "      <td>2019-02-19 16:49:03.547</td>\n",
       "      <td>2019-06-13 08:22:14.314</td>\n",
       "    </tr>\n",
       "    <tr>\n",
       "      <th>3</th>\n",
       "      <td>e9e07ed0-812f-11e8-82aa-61eacebe4584</td>\n",
       "      <td>https://www.seloger.com/annonces/locations/bur...</td>\n",
       "      <td>SE_LOGER</td>\n",
       "      <td>PREMISES</td>\n",
       "      <td>False</td>\n",
       "      <td>\"Le meilleur coworking flexible de la ville, 5...</td>\n",
       "      <td>[\"https://pix.yanport.com/ads/e9e07ed0-812f-11...</td>\n",
       "      <td>50.0</td>\n",
       "      <td>0.0</td>\n",
       "      <td>False</td>\n",
       "      <td>...</td>\n",
       "      <td>False</td>\n",
       "      <td>False</td>\n",
       "      <td>Iwg</td>\n",
       "      <td>AGENCY</td>\n",
       "      <td>54178039</td>\n",
       "      <td>Levallois-Perret</td>\n",
       "      <td>92300.0</td>\n",
       "      <td>92</td>\n",
       "      <td>2018-07-06 15:18:59.805</td>\n",
       "      <td>2019-06-18 10:40:07.405</td>\n",
       "    </tr>\n",
       "    <tr>\n",
       "      <th>4</th>\n",
       "      <td>872302b0-5a21-11e9-950c-510fefc1ed35</td>\n",
       "      <td>https://www.bellesdemeures.com/annonces/vente/...</td>\n",
       "      <td>BELLES_DEMEURES</td>\n",
       "      <td>HOUSE</td>\n",
       "      <td>False</td>\n",
       "      <td>Levallois - Parc de la Planchette A toute prox...</td>\n",
       "      <td>[\"https://v.seloger.com/s/width/966/visuels/0/...</td>\n",
       "      <td>330.0</td>\n",
       "      <td>8.0</td>\n",
       "      <td>False</td>\n",
       "      <td>...</td>\n",
       "      <td>False</td>\n",
       "      <td>False</td>\n",
       "      <td>Daniel Feau Neuilly</td>\n",
       "      <td>AGENCY</td>\n",
       "      <td>54178039</td>\n",
       "      <td>Levallois-Perret</td>\n",
       "      <td>92300.0</td>\n",
       "      <td>92</td>\n",
       "      <td>2019-04-08 17:12:20.123</td>\n",
       "      <td>2019-06-14 15:02:18.155</td>\n",
       "    </tr>\n",
       "  </tbody>\n",
       "</table>\n",
       "<p>5 rows × 30 columns</p>\n",
       "</div>"
      ],
      "text/plain": [
       "                                     ID  \\\n",
       "0  22c05930-0eb5-11e7-b53d-bbead8ba43fe   \n",
       "1  8d092fa0-bb99-11e8-a7c9-852783b5a69d   \n",
       "2  44b6a5c0-3466-11e9-8213-25cc7d9bf5fc   \n",
       "3  e9e07ed0-812f-11e8-82aa-61eacebe4584   \n",
       "4  872302b0-5a21-11e9-950c-510fefc1ed35   \n",
       "\n",
       "                                                 URL      CRAWL_SOURCE  \\\n",
       "0  http://www.avendrealouer.fr/location/levallois...  A_VENDRE_A_LOUER   \n",
       "1  https://www.bienici.com/annonce/ag440414-16547...          BIEN_ICI   \n",
       "2  https://www.bellesdemeures.com/annonces/vente/...   BELLES_DEMEURES   \n",
       "3  https://www.seloger.com/annonces/locations/bur...          SE_LOGER   \n",
       "4  https://www.bellesdemeures.com/annonces/vente/...   BELLES_DEMEURES   \n",
       "\n",
       "  PROPERTY_TYPE  NEW_BUILD                                        DESCRIPTION  \\\n",
       "0     APARTMENT      False  Au rez de chaussée d'un bel immeuble récent,ap...   \n",
       "1     APARTMENT      False  Je vous propose un appartement dans la rue Col...   \n",
       "2     APARTMENT      False  Dans un cadre arboré, calme et fleuri, un pent...   \n",
       "3      PREMISES      False  \"Le meilleur coworking flexible de la ville, 5...   \n",
       "4         HOUSE      False  Levallois - Parc de la Planchette A toute prox...   \n",
       "\n",
       "                                              IMAGES  SURFACE  ROOM_COUNT  \\\n",
       "0  [\"https://cf-medias.avendrealouer.fr/image/_87...     72.0         3.0   \n",
       "1  [\"http://photos.ubiflow.net/440414/165474561/p...     48.0         2.0   \n",
       "2  [\"https://v.seloger.com/s/width/965/visuels/0/...    267.0         6.0   \n",
       "3  [\"https://pix.yanport.com/ads/e9e07ed0-812f-11...     50.0         0.0   \n",
       "4  [\"https://v.seloger.com/s/width/966/visuels/0/...    330.0         8.0   \n",
       "\n",
       "   FURNISHED  ...  EXCLUSIVE_MANDATE OCCUPIED             DEALER_NAME  \\\n",
       "0      False  ...              False    False    Lamirand Et Associes   \n",
       "1      False  ...              False    False      Proprietes Privees   \n",
       "2      False  ...              False    False  Propriétés Parisiennes   \n",
       "3      False  ...              False    False                     Iwg   \n",
       "4      False  ...              False    False     Daniel Feau Neuilly   \n",
       "\n",
       "   DEALER_TYPE   CITY_ID              CITY  ZIP_CODE DEPT_CODE  \\\n",
       "0       AGENCY  54178039  Levallois-Perret   92300.0        92   \n",
       "1    MANDATARY  54178039  Levallois-Perret   92300.0        92   \n",
       "2       AGENCY  54178039  Levallois-Perret   92300.0        92   \n",
       "3       AGENCY  54178039  Levallois-Perret   92300.0        92   \n",
       "4       AGENCY  54178039  Levallois-Perret   92300.0        92   \n",
       "\n",
       "   PUBLICATION_START_DATE         LAST_CRAWL_DATE  \n",
       "0 2017-03-22 04:07:56.095 2017-04-21 18:52:35.733  \n",
       "1 2018-09-18 11:04:44.461 2019-06-06 10:08:10.890  \n",
       "2 2019-02-19 16:49:03.547 2019-06-13 08:22:14.314  \n",
       "3 2018-07-06 15:18:59.805 2019-06-18 10:40:07.405  \n",
       "4 2019-04-08 17:12:20.123 2019-06-14 15:02:18.155  \n",
       "\n",
       "[5 rows x 30 columns]"
      ]
     },
     "execution_count": 27,
     "metadata": {},
     "output_type": "execute_result"
    }
   ],
   "source": [
    "df_cleaned.head()"
   ]
  },
  {
   "cell_type": "markdown",
   "id": "fce660cf-870f-454f-9d61-e3925b8d20ff",
   "metadata": {},
   "source": [
    "#### Fusion de colonnes"
   ]
  },
  {
   "cell_type": "code",
   "execution_count": 28,
   "id": "a82c3ae4-7fa0-4d7e-bb4e-15009b586edc",
   "metadata": {
    "tags": []
   },
   "outputs": [
    {
     "data": {
      "text/plain": [
       "CITY              CITY_ID   ZIP_CODE  DEPT_CODE\n",
       "Levallois-Perret  54178039  92300.0   92           2164\n",
       "dtype: int64"
      ]
     },
     "execution_count": 28,
     "metadata": {},
     "output_type": "execute_result"
    }
   ],
   "source": [
    "LOCALIZATION_COLUMS = ['CITY', 'CITY_ID', 'ZIP_CODE', 'DEPT_CODE']\n",
    "df_cleaned[LOCALIZATION_COLUMS].value_counts()"
   ]
  },
  {
   "cell_type": "markdown",
   "id": "b536d259-0a7b-448f-af15-17dfa76c505c",
   "metadata": {},
   "source": [
    "Comme on peut le voir toutes les annonces sont faites à Levallois-Perret dans le 92. \n",
    "\n",
    "Nous allons les fusionner en une seule colonne LOCALIZATION = Levallois-Perret (92300)"
   ]
  },
  {
   "cell_type": "code",
   "execution_count": 29,
   "id": "30f4432c-35cf-4c8e-aa55-afbff338556a",
   "metadata": {
    "tags": []
   },
   "outputs": [],
   "source": [
    "df_cleaned['LOCALIZATION'] = df_cleaned['CITY'] + \" (\" + df_cleaned['ZIP_CODE'].astype(str).str.split('.').str[0] + \")\""
   ]
  },
  {
   "cell_type": "code",
   "execution_count": 30,
   "id": "45c01da9-c50c-42c4-9233-f48e0a54a4b2",
   "metadata": {
    "tags": []
   },
   "outputs": [],
   "source": [
    "df_cleaned.drop(columns=LOCALIZATION_COLUMS, inplace=True)"
   ]
  },
  {
   "cell_type": "code",
   "execution_count": 31,
   "id": "4b5ba1d6-9a73-4311-be35-fef758bbfb7f",
   "metadata": {
    "tags": []
   },
   "outputs": [
    {
     "data": {
      "text/html": [
       "<div>\n",
       "<style scoped>\n",
       "    .dataframe tbody tr th:only-of-type {\n",
       "        vertical-align: middle;\n",
       "    }\n",
       "\n",
       "    .dataframe tbody tr th {\n",
       "        vertical-align: top;\n",
       "    }\n",
       "\n",
       "    .dataframe thead th {\n",
       "        text-align: right;\n",
       "    }\n",
       "</style>\n",
       "<table border=\"1\" class=\"dataframe\">\n",
       "  <thead>\n",
       "    <tr style=\"text-align: right;\">\n",
       "      <th></th>\n",
       "      <th>ID</th>\n",
       "      <th>URL</th>\n",
       "      <th>CRAWL_SOURCE</th>\n",
       "      <th>PROPERTY_TYPE</th>\n",
       "      <th>NEW_BUILD</th>\n",
       "      <th>DESCRIPTION</th>\n",
       "      <th>IMAGES</th>\n",
       "      <th>SURFACE</th>\n",
       "      <th>ROOM_COUNT</th>\n",
       "      <th>FURNISHED</th>\n",
       "      <th>...</th>\n",
       "      <th>PRICE_EVENTS</th>\n",
       "      <th>RENTAL_EXPENSES_INCLUDED</th>\n",
       "      <th>FEES_INCLUDED</th>\n",
       "      <th>EXCLUSIVE_MANDATE</th>\n",
       "      <th>OCCUPIED</th>\n",
       "      <th>DEALER_NAME</th>\n",
       "      <th>DEALER_TYPE</th>\n",
       "      <th>PUBLICATION_START_DATE</th>\n",
       "      <th>LAST_CRAWL_DATE</th>\n",
       "      <th>LOCALIZATION</th>\n",
       "    </tr>\n",
       "  </thead>\n",
       "  <tbody>\n",
       "    <tr>\n",
       "      <th>0</th>\n",
       "      <td>22c05930-0eb5-11e7-b53d-bbead8ba43fe</td>\n",
       "      <td>http://www.avendrealouer.fr/location/levallois...</td>\n",
       "      <td>A_VENDRE_A_LOUER</td>\n",
       "      <td>APARTMENT</td>\n",
       "      <td>False</td>\n",
       "      <td>Au rez de chaussée d'un bel immeuble récent,ap...</td>\n",
       "      <td>[\"https://cf-medias.avendrealouer.fr/image/_87...</td>\n",
       "      <td>72.0</td>\n",
       "      <td>3.0</td>\n",
       "      <td>False</td>\n",
       "      <td>...</td>\n",
       "      <td>[{\"price\":1979,\"date\":\"2017-03-22\"}]</td>\n",
       "      <td>True</td>\n",
       "      <td>False</td>\n",
       "      <td>False</td>\n",
       "      <td>False</td>\n",
       "      <td>Lamirand Et Associes</td>\n",
       "      <td>AGENCY</td>\n",
       "      <td>2017-03-22 04:07:56.095</td>\n",
       "      <td>2017-04-21 18:52:35.733</td>\n",
       "      <td>Levallois-Perret (92300)</td>\n",
       "    </tr>\n",
       "    <tr>\n",
       "      <th>1</th>\n",
       "      <td>8d092fa0-bb99-11e8-a7c9-852783b5a69d</td>\n",
       "      <td>https://www.bienici.com/annonce/ag440414-16547...</td>\n",
       "      <td>BIEN_ICI</td>\n",
       "      <td>APARTMENT</td>\n",
       "      <td>False</td>\n",
       "      <td>Je vous propose un appartement dans la rue Col...</td>\n",
       "      <td>[\"http://photos.ubiflow.net/440414/165474561/p...</td>\n",
       "      <td>48.0</td>\n",
       "      <td>2.0</td>\n",
       "      <td>False</td>\n",
       "      <td>...</td>\n",
       "      <td>[{\"price\":452000.0,\"date\":\"2018-09-18\"},{\"pric...</td>\n",
       "      <td>True</td>\n",
       "      <td>False</td>\n",
       "      <td>False</td>\n",
       "      <td>False</td>\n",
       "      <td>Proprietes Privees</td>\n",
       "      <td>MANDATARY</td>\n",
       "      <td>2018-09-18 11:04:44.461</td>\n",
       "      <td>2019-06-06 10:08:10.890</td>\n",
       "      <td>Levallois-Perret (92300)</td>\n",
       "    </tr>\n",
       "    <tr>\n",
       "      <th>2</th>\n",
       "      <td>44b6a5c0-3466-11e9-8213-25cc7d9bf5fc</td>\n",
       "      <td>https://www.bellesdemeures.com/annonces/vente/...</td>\n",
       "      <td>BELLES_DEMEURES</td>\n",
       "      <td>APARTMENT</td>\n",
       "      <td>False</td>\n",
       "      <td>Dans un cadre arboré, calme et fleuri, un pent...</td>\n",
       "      <td>[\"https://v.seloger.com/s/width/965/visuels/0/...</td>\n",
       "      <td>267.0</td>\n",
       "      <td>6.0</td>\n",
       "      <td>False</td>\n",
       "      <td>...</td>\n",
       "      <td>[{\"price\":4970000.0,\"date\":\"2019-02-19\"}]</td>\n",
       "      <td>True</td>\n",
       "      <td>False</td>\n",
       "      <td>False</td>\n",
       "      <td>False</td>\n",
       "      <td>Propriétés Parisiennes</td>\n",
       "      <td>AGENCY</td>\n",
       "      <td>2019-02-19 16:49:03.547</td>\n",
       "      <td>2019-06-13 08:22:14.314</td>\n",
       "      <td>Levallois-Perret (92300)</td>\n",
       "    </tr>\n",
       "    <tr>\n",
       "      <th>3</th>\n",
       "      <td>e9e07ed0-812f-11e8-82aa-61eacebe4584</td>\n",
       "      <td>https://www.seloger.com/annonces/locations/bur...</td>\n",
       "      <td>SE_LOGER</td>\n",
       "      <td>PREMISES</td>\n",
       "      <td>False</td>\n",
       "      <td>\"Le meilleur coworking flexible de la ville, 5...</td>\n",
       "      <td>[\"https://pix.yanport.com/ads/e9e07ed0-812f-11...</td>\n",
       "      <td>50.0</td>\n",
       "      <td>0.0</td>\n",
       "      <td>False</td>\n",
       "      <td>...</td>\n",
       "      <td>[{\"price\":89.0,\"date\":\"2018-07-06\"}]</td>\n",
       "      <td>True</td>\n",
       "      <td>False</td>\n",
       "      <td>False</td>\n",
       "      <td>False</td>\n",
       "      <td>Iwg</td>\n",
       "      <td>AGENCY</td>\n",
       "      <td>2018-07-06 15:18:59.805</td>\n",
       "      <td>2019-06-18 10:40:07.405</td>\n",
       "      <td>Levallois-Perret (92300)</td>\n",
       "    </tr>\n",
       "    <tr>\n",
       "      <th>4</th>\n",
       "      <td>872302b0-5a21-11e9-950c-510fefc1ed35</td>\n",
       "      <td>https://www.bellesdemeures.com/annonces/vente/...</td>\n",
       "      <td>BELLES_DEMEURES</td>\n",
       "      <td>HOUSE</td>\n",
       "      <td>False</td>\n",
       "      <td>Levallois - Parc de la Planchette A toute prox...</td>\n",
       "      <td>[\"https://v.seloger.com/s/width/966/visuels/0/...</td>\n",
       "      <td>330.0</td>\n",
       "      <td>8.0</td>\n",
       "      <td>False</td>\n",
       "      <td>...</td>\n",
       "      <td>[{\"price\":3150000.0,\"date\":\"2019-04-08\"},{\"pri...</td>\n",
       "      <td>True</td>\n",
       "      <td>False</td>\n",
       "      <td>False</td>\n",
       "      <td>False</td>\n",
       "      <td>Daniel Feau Neuilly</td>\n",
       "      <td>AGENCY</td>\n",
       "      <td>2019-04-08 17:12:20.123</td>\n",
       "      <td>2019-06-14 15:02:18.155</td>\n",
       "      <td>Levallois-Perret (92300)</td>\n",
       "    </tr>\n",
       "  </tbody>\n",
       "</table>\n",
       "<p>5 rows × 27 columns</p>\n",
       "</div>"
      ],
      "text/plain": [
       "                                     ID  \\\n",
       "0  22c05930-0eb5-11e7-b53d-bbead8ba43fe   \n",
       "1  8d092fa0-bb99-11e8-a7c9-852783b5a69d   \n",
       "2  44b6a5c0-3466-11e9-8213-25cc7d9bf5fc   \n",
       "3  e9e07ed0-812f-11e8-82aa-61eacebe4584   \n",
       "4  872302b0-5a21-11e9-950c-510fefc1ed35   \n",
       "\n",
       "                                                 URL      CRAWL_SOURCE  \\\n",
       "0  http://www.avendrealouer.fr/location/levallois...  A_VENDRE_A_LOUER   \n",
       "1  https://www.bienici.com/annonce/ag440414-16547...          BIEN_ICI   \n",
       "2  https://www.bellesdemeures.com/annonces/vente/...   BELLES_DEMEURES   \n",
       "3  https://www.seloger.com/annonces/locations/bur...          SE_LOGER   \n",
       "4  https://www.bellesdemeures.com/annonces/vente/...   BELLES_DEMEURES   \n",
       "\n",
       "  PROPERTY_TYPE  NEW_BUILD                                        DESCRIPTION  \\\n",
       "0     APARTMENT      False  Au rez de chaussée d'un bel immeuble récent,ap...   \n",
       "1     APARTMENT      False  Je vous propose un appartement dans la rue Col...   \n",
       "2     APARTMENT      False  Dans un cadre arboré, calme et fleuri, un pent...   \n",
       "3      PREMISES      False  \"Le meilleur coworking flexible de la ville, 5...   \n",
       "4         HOUSE      False  Levallois - Parc de la Planchette A toute prox...   \n",
       "\n",
       "                                              IMAGES  SURFACE  ROOM_COUNT  \\\n",
       "0  [\"https://cf-medias.avendrealouer.fr/image/_87...     72.0         3.0   \n",
       "1  [\"http://photos.ubiflow.net/440414/165474561/p...     48.0         2.0   \n",
       "2  [\"https://v.seloger.com/s/width/965/visuels/0/...    267.0         6.0   \n",
       "3  [\"https://pix.yanport.com/ads/e9e07ed0-812f-11...     50.0         0.0   \n",
       "4  [\"https://v.seloger.com/s/width/966/visuels/0/...    330.0         8.0   \n",
       "\n",
       "   FURNISHED  ...                                       PRICE_EVENTS  \\\n",
       "0      False  ...               [{\"price\":1979,\"date\":\"2017-03-22\"}]   \n",
       "1      False  ...  [{\"price\":452000.0,\"date\":\"2018-09-18\"},{\"pric...   \n",
       "2      False  ...          [{\"price\":4970000.0,\"date\":\"2019-02-19\"}]   \n",
       "3      False  ...               [{\"price\":89.0,\"date\":\"2018-07-06\"}]   \n",
       "4      False  ...  [{\"price\":3150000.0,\"date\":\"2019-04-08\"},{\"pri...   \n",
       "\n",
       "  RENTAL_EXPENSES_INCLUDED  FEES_INCLUDED  EXCLUSIVE_MANDATE OCCUPIED  \\\n",
       "0                     True          False              False    False   \n",
       "1                     True          False              False    False   \n",
       "2                     True          False              False    False   \n",
       "3                     True          False              False    False   \n",
       "4                     True          False              False    False   \n",
       "\n",
       "              DEALER_NAME  DEALER_TYPE  PUBLICATION_START_DATE  \\\n",
       "0    Lamirand Et Associes       AGENCY 2017-03-22 04:07:56.095   \n",
       "1      Proprietes Privees    MANDATARY 2018-09-18 11:04:44.461   \n",
       "2  Propriétés Parisiennes       AGENCY 2019-02-19 16:49:03.547   \n",
       "3                     Iwg       AGENCY 2018-07-06 15:18:59.805   \n",
       "4     Daniel Feau Neuilly       AGENCY 2019-04-08 17:12:20.123   \n",
       "\n",
       "          LAST_CRAWL_DATE              LOCALIZATION  \n",
       "0 2017-04-21 18:52:35.733  Levallois-Perret (92300)  \n",
       "1 2019-06-06 10:08:10.890  Levallois-Perret (92300)  \n",
       "2 2019-06-13 08:22:14.314  Levallois-Perret (92300)  \n",
       "3 2019-06-18 10:40:07.405  Levallois-Perret (92300)  \n",
       "4 2019-06-14 15:02:18.155  Levallois-Perret (92300)  \n",
       "\n",
       "[5 rows x 27 columns]"
      ]
     },
     "execution_count": 31,
     "metadata": {},
     "output_type": "execute_result"
    }
   ],
   "source": [
    "df_cleaned.head()"
   ]
  },
  {
   "cell_type": "code",
   "execution_count": null,
   "id": "746af528-0efa-4027-a1d8-bcc3e7af2c2b",
   "metadata": {},
   "outputs": [],
   "source": []
  },
  {
   "cell_type": "code",
   "execution_count": 32,
   "id": "06c89d08-4ba7-4c65-abe5-8af6e320bf65",
   "metadata": {
    "tags": []
   },
   "outputs": [
    {
     "data": {
      "text/plain": [
       "(2164, 27)"
      ]
     },
     "execution_count": 32,
     "metadata": {},
     "output_type": "execute_result"
    }
   ],
   "source": [
    "df_cleaned.shape"
   ]
  },
  {
   "cell_type": "markdown",
   "id": "09ff176d-1dd6-41de-bf58-de5577ace955",
   "metadata": {
    "tags": []
   },
   "source": [
    "#### enregistrer le dataset nettoyé"
   ]
  },
  {
   "cell_type": "code",
   "execution_count": 33,
   "id": "27ebc3bf-f583-4cbf-9721-47d535e1ad80",
   "metadata": {
    "tags": []
   },
   "outputs": [],
   "source": [
    "file_path = \"./cleaned_dataset_levallois_perret.csv\"\n",
    "df_cleaned.to_csv(file_path, index=False)"
   ]
  },
  {
   "cell_type": "markdown",
   "id": "97eb178d-576e-41b4-844f-6c8e50e0e33f",
   "metadata": {},
   "source": [
    "<div id=\"visual\"><h1>3. Visualisation et analyse des données</h1></div>\n"
   ]
  },
  {
   "cell_type": "markdown",
   "id": "5f521c08-2d46-4846-a999-235f73a9ec75",
   "metadata": {},
   "source": [
    "Avant de pouvoir regrouper efficacement les annonces portant sur un même bien immobilier, il est utile de visualiser et d'analyser les données pour comprendre les caractéristiques qui pourraient aider à identifier les doublons. Cela pourrait inclure des caractéristiques telles que la surface, le nombre de pièces, l'emplacement, le prix, etc."
   ]
  },
  {
   "cell_type": "code",
   "execution_count": 34,
   "id": "3cc3346b-3ee4-43b4-8dac-b0339e855f94",
   "metadata": {
    "tags": []
   },
   "outputs": [],
   "source": [
    "import matplotlib.pyplot as plt\n",
    "import seaborn as sns\n",
    "\n",
    "# style fond blanc \n",
    "sns.set_style(\"whitegrid\")\n",
    "\n",
    "df = pd.read_csv('cleaned_dataset_levallois_perret.csv')\n"
   ]
  },
  {
   "cell_type": "markdown",
   "id": "64d616d2-f33e-4be4-ad30-e4be48d8316f",
   "metadata": {},
   "source": [
    "#### Distribution de la surface des biens."
   ]
  },
  {
   "cell_type": "code",
   "execution_count": 35,
   "id": "3c025c3c-45aa-4719-8572-bdd62c78613e",
   "metadata": {
    "tags": []
   },
   "outputs": [
    {
     "data": {
      "image/png": "[encoded data removed]",
      "text/plain": [
       "<Figure size 1200x600 with 1 Axes>"
      ]
     },
     "metadata": {},
     "output_type": "display_data"
    }
   ],
   "source": [
    "plt.figure(figsize=(12, 6))\n",
    "sns.histplot(df['SURFACE'], bins=200, kde=True)\n",
    "plt.xlim([0, 800])\n",
    "plt.title('Distribution de la surface des biens')\n",
    "plt.xlabel('Surface (m²)')\n",
    "plt.ylabel('Nombre de biens')\n",
    "plt.show()"
   ]
  },
  {
   "cell_type": "markdown",
   "id": "0fb578f8-bcd1-4ca2-8879-8f398201f4d1",
   "metadata": {},
   "source": [
    "La distribution de la surface des biens montre que la majorité des biens à Levallois-Perret ont une surface comprise entre 0 et 200 m², avec un pic prononcé autour de 50 m²."
   ]
  },
  {
   "cell_type": "markdown",
   "id": "18e78bbc-5c1b-4b2e-bf84-0e3f678da278",
   "metadata": {},
   "source": [
    "#### Distribution du nombre de pièces"
   ]
  },
  {
   "cell_type": "code",
   "execution_count": 36,
   "id": "19fc0b1e-2cae-4251-9d39-20e026fd0b20",
   "metadata": {
    "tags": []
   },
   "outputs": [
    {
     "data": {
      "image/png": "[encoded data removed]",
      "text/plain": [
       "<Figure size 1200x600 with 1 Axes>"
      ]
     },
     "metadata": {},
     "output_type": "display_data"
    }
   ],
   "source": [
    "plt.figure(figsize=(12, 6))\n",
    "sns.countplot(data=df, x='ROOM_COUNT')\n",
    "plt.title('Distribution du nombre de pièces')\n",
    "plt.xlabel('Nombre de pièces')\n",
    "plt.ylabel('Nombre de biens immobilier')\n",
    "plt.show()"
   ]
  },
  {
   "cell_type": "markdown",
   "id": "b84f13d1-a7f5-4a7c-9e05-acb476439f5c",
   "metadata": {},
   "source": [
    "La distribution du nombre de pièces montre que la majorité des biens à Levallois-Perret ont entre 1 et 4 pièces, avec une prédominance des biens à 2 ou 3 pièces."
   ]
  },
  {
   "cell_type": "markdown",
   "id": "2d270bcc-f92e-4256-a497-9feddb37e3b0",
   "metadata": {},
   "source": [
    "#### Distribution des prix"
   ]
  },
  {
   "cell_type": "code",
   "execution_count": 37,
   "id": "195f56a5-0f9f-41a9-b95c-148e8d930489",
   "metadata": {
    "tags": []
   },
   "outputs": [
    {
     "data": {
      "image/png": "[encoded data removed]",
      "text/plain": [
       "<Figure size 1200x600 with 1 Axes>"
      ]
     },
     "metadata": {},
     "output_type": "display_data"
    }
   ],
   "source": [
    "plt.figure(figsize=(12, 6))\n",
    "sns.histplot(df['PRICE'], bins=50, kde=True)\n",
    "plt.xlim([0, 4e6])\n",
    "plt.title('Distribution des prix des biens')\n",
    "plt.xlabel('Prix (€)')\n",
    "plt.ylabel('Nombre de biens')\n",
    "plt.show()"
   ]
  },
  {
   "cell_type": "markdown",
   "id": "34379d18-cd36-4415-a057-40fbebba62c0",
   "metadata": {},
   "source": [
    "La distribution des prix montre que la majorité des biens à Levallois-Perret ont un prix compris entre 0€ et 1 500 000€, avec un pic prononcé autour de 500 000€."
   ]
  },
  {
   "cell_type": "code",
   "execution_count": 38,
   "id": "ea9ce280-fafb-4618-be8c-2a552758ebf4",
   "metadata": {
    "tags": []
   },
   "outputs": [
    {
     "data": {
      "image/png": "[encoded data removed]",
      "text/plain": [
       "<Figure size 1200x600 with 1 Axes>"
      ]
     },
     "metadata": {},
     "output_type": "display_data"
    }
   ],
   "source": [
    "plt.figure(figsize=(12, 6))\n",
    "sns.histplot(df['PRICE_M2'], bins=75, kde=True)\n",
    "plt.xlim([0, 2e4])\n",
    "plt.title('Distribution du prix au mètre carré des biens')\n",
    "plt.xlabel('Prix M^2 (€)')\n",
    "plt.ylabel('Nombre de biens')\n",
    "plt.show()"
   ]
  },
  {
   "cell_type": "markdown",
   "id": "aa58890e-c320-4278-83dc-2909431bb562",
   "metadata": {},
   "source": [
    "Le prix au mètre carré varie le plus souvent entre 7500€ et 11000€ à Levallois-Perret"
   ]
  },
  {
   "cell_type": "markdown",
   "id": "b681364e-8ce7-47ef-8d8d-671651ee1a0c",
   "metadata": {},
   "source": [
    "#### Repartition des types de biens (appartement, maison, etc.)"
   ]
  },
  {
   "cell_type": "code",
   "execution_count": 39,
   "id": "184f988a-ff07-4b69-8ae2-fdf0acac81ab",
   "metadata": {
    "tags": []
   },
   "outputs": [
    {
     "data": {
      "image/png": "[encoded data removed]",
      "text/plain": [
       "<Figure size 1200x600 with 1 Axes>"
      ]
     },
     "metadata": {},
     "output_type": "display_data"
    }
   ],
   "source": [
    "plt.figure(figsize=(12, 6))\n",
    "sns.countplot(data=df, y='PROPERTY_TYPE', order=df['PROPERTY_TYPE'].value_counts().index)\n",
    "plt.title('Repartition des types de biens')\n",
    "plt.xlabel('Nombre de biens')\n",
    "plt.ylabel('Type de bien')\n",
    "plt.show()"
   ]
  },
  {
   "cell_type": "markdown",
   "id": "db79e0e3-1d9b-4269-952d-e64db55e38ed",
   "metadata": {},
   "source": [
    "La repartition des types de biens montre que la grande majorité des annonces à Levallois-Perret concernent des appartements, suivies de quelques annonces pour des maisons."
   ]
  },
  {
   "cell_type": "markdown",
   "id": "43c565cb-3b6d-4d59-b80e-50e942fbbff7",
   "metadata": {},
   "source": [
    "#### Repartition des annonces en fonction de leur source"
   ]
  },
  {
   "cell_type": "code",
   "execution_count": 40,
   "id": "8910429a-e413-4906-a018-fbe540c52dab",
   "metadata": {
    "tags": []
   },
   "outputs": [
    {
     "data": {
      "image/png": "[encoded data removed]",
      "text/plain": [
       "<Figure size 1200x600 with 1 Axes>"
      ]
     },
     "metadata": {},
     "output_type": "display_data"
    }
   ],
   "source": [
    "plt.figure(figsize=(12, 6))\n",
    "sns.countplot(data=df, y='CRAWL_SOURCE', order=df['CRAWL_SOURCE'].value_counts().index)\n",
    "plt.title('Repartition des annonces par source')\n",
    "plt.xlabel('Nombre d\\'annonces')\n",
    "plt.ylabel('Source')\n",
    "plt.show()\n"
   ]
  },
  {
   "cell_type": "markdown",
   "id": "4f80e45d-8ae9-4409-8e5f-0beec65cba87",
   "metadata": {},
   "source": [
    "À Levallois-Perret, les annonces proviennent le plus souvent des portails \"SeLoger\", \"LeBonCoin\" ou encore \"A vendre a louer\"\n",
    "\n",
    "---"
   ]
  },
  {
   "cell_type": "markdown",
   "id": "2b28bad6-fffc-42a7-a736-a320f792f7d6",
   "metadata": {},
   "source": [
    "<b>Cette phase exploratoire nous permet de comprendre un peu comment les données se présentent et nous permet d'avoir une idée sur comment identifier des biens similaires afin de pouvoir les regrouper ensuite pour faciliter le dedoublonnement.</b>"
   ]
  },
  {
   "cell_type": "markdown",
   "id": "9ba7dca8-3a51-4e20-81b7-ba8da0b4eea3",
   "metadata": {
    "tags": []
   },
   "source": [
    "<div id=\"load\"><h1> 4. Exploration des techniques de dedoublonnement par regroupement des données</h1></div>"
   ]
  },
  {
   "cell_type": "markdown",
   "id": "c4dcf121-28e5-429e-be57-7f43d9c56c9c",
   "metadata": {
    "tags": []
   },
   "source": [
    "Nous allons das cette partie explorer quelques techniques pour dedoublonner les annonces."
   ]
  },
  {
   "cell_type": "markdown",
   "id": "d74d01c3-91e0-47a6-855f-24b826058579",
   "metadata": {},
   "source": [
    "## Approche heuristique\n",
    "\n",
    "---\n",
    "### Methode 1\n",
    "Nous pouvons considérer des propriétés comme des doublons si elles ont des attributs similaires, tels que la <span style='color:blue;'>surface</span>, le <span style='color:blue;'>nombre de pièces</span>, et le <span style='color:blue;'>type de propriété</span>.\n",
    "\n",
    "Nous considérerons donc que deux propriétés sont des doublons si elles ont :\n",
    "\n",
    "- Le même type de propriété (PROPERTY_TYPE)\n",
    "- La même surface (ou une surface très proche, par exemple, dans une plage de ±5% pour tenir compte des erreurs de saisie ou des arrondis)\n",
    "- Le même nombre de pièces (ROOM_COUNT)"
   ]
  },
  {
   "cell_type": "code",
   "execution_count": 41,
   "id": "890e0733-9568-4e22-a75e-ea39f34a3ef0",
   "metadata": {
    "tags": []
   },
   "outputs": [
    {
     "data": {
      "text/html": [
       "<div>\n",
       "<style scoped>\n",
       "    .dataframe tbody tr th:only-of-type {\n",
       "        vertical-align: middle;\n",
       "    }\n",
       "\n",
       "    .dataframe tbody tr th {\n",
       "        vertical-align: top;\n",
       "    }\n",
       "\n",
       "    .dataframe thead th {\n",
       "        text-align: right;\n",
       "    }\n",
       "</style>\n",
       "<table border=\"1\" class=\"dataframe\">\n",
       "  <thead>\n",
       "    <tr style=\"text-align: right;\">\n",
       "      <th></th>\n",
       "      <th>ID</th>\n",
       "      <th>URL</th>\n",
       "      <th>CRAWL_SOURCE</th>\n",
       "      <th>PROPERTY_TYPE</th>\n",
       "      <th>NEW_BUILD</th>\n",
       "      <th>DESCRIPTION</th>\n",
       "      <th>IMAGES</th>\n",
       "      <th>SURFACE</th>\n",
       "      <th>ROOM_COUNT</th>\n",
       "      <th>FURNISHED</th>\n",
       "      <th>...</th>\n",
       "      <th>RENTAL_EXPENSES_INCLUDED</th>\n",
       "      <th>FEES_INCLUDED</th>\n",
       "      <th>EXCLUSIVE_MANDATE</th>\n",
       "      <th>OCCUPIED</th>\n",
       "      <th>DEALER_NAME</th>\n",
       "      <th>DEALER_TYPE</th>\n",
       "      <th>PUBLICATION_START_DATE</th>\n",
       "      <th>LAST_CRAWL_DATE</th>\n",
       "      <th>LOCALIZATION</th>\n",
       "      <th>GROUP_KEY</th>\n",
       "    </tr>\n",
       "  </thead>\n",
       "  <tbody>\n",
       "    <tr>\n",
       "      <th>257</th>\n",
       "      <td>2d5f9bf0-c75c-11e9-92d3-cb429fb9e457</td>\n",
       "      <td>https://www.avendrealouer.fr/vente/levallois-p...</td>\n",
       "      <td>A_VENDRE_A_LOUER</td>\n",
       "      <td>APARTMENT</td>\n",
       "      <td>False</td>\n",
       "      <td>92300 LEVALLOIS-PERRET-SECTEUR RECHERCHE-BEAU ...</td>\n",
       "      <td>[\"https://cf-medias.avendrealouer.fr/image/_11...</td>\n",
       "      <td>9.0</td>\n",
       "      <td>1.0</td>\n",
       "      <td>False</td>\n",
       "      <td>...</td>\n",
       "      <td>True</td>\n",
       "      <td>False</td>\n",
       "      <td>False</td>\n",
       "      <td>False</td>\n",
       "      <td>Efficity</td>\n",
       "      <td>MANDATARY</td>\n",
       "      <td>2019-08-25 17:17:11.436</td>\n",
       "      <td>2019-08-25 17:17:11.436</td>\n",
       "      <td>Levallois-Perret (92300)</td>\n",
       "      <td>(APARTMENT, (8, 10), 1.0)</td>\n",
       "    </tr>\n",
       "    <tr>\n",
       "      <th>1408</th>\n",
       "      <td>2a04c410-c74f-11e9-92d3-cb429fb9e457</td>\n",
       "      <td>https://www.paruvendu.fr/immobilier/vente/appa...</td>\n",
       "      <td>PARU_VENDU</td>\n",
       "      <td>APARTMENT</td>\n",
       "      <td>False</td>\n",
       "      <td>T1 92300 LEVALLOIS-PERRET-SECTEUR RECHERCHE-BE...</td>\n",
       "      <td>[\"https://pix.yanport.com/ads/2a04c410-c74f-11...</td>\n",
       "      <td>9.0</td>\n",
       "      <td>1.0</td>\n",
       "      <td>False</td>\n",
       "      <td>...</td>\n",
       "      <td>True</td>\n",
       "      <td>False</td>\n",
       "      <td>False</td>\n",
       "      <td>False</td>\n",
       "      <td>Efficity</td>\n",
       "      <td>MANDATARY</td>\n",
       "      <td>2019-08-25 15:44:01.063</td>\n",
       "      <td>2019-08-25 15:44:01.063</td>\n",
       "      <td>Levallois-Perret (92300)</td>\n",
       "      <td>(APARTMENT, (8, 10), 1.0)</td>\n",
       "    </tr>\n",
       "    <tr>\n",
       "      <th>254</th>\n",
       "      <td>d05cd220-c73c-11e9-92d3-cb429fb9e457</td>\n",
       "      <td>https://www.seloger.com/annonces/achat/apparte...</td>\n",
       "      <td>SE_LOGER</td>\n",
       "      <td>APARTMENT</td>\n",
       "      <td>False</td>\n",
       "      <td>92300 LEVALLOIS-PERRET-SECTEUR RECHERCHE-BEAU ...</td>\n",
       "      <td>[\"https://v.seloger.com/s/width/800/visuels/0/...</td>\n",
       "      <td>9.0</td>\n",
       "      <td>1.0</td>\n",
       "      <td>False</td>\n",
       "      <td>...</td>\n",
       "      <td>True</td>\n",
       "      <td>False</td>\n",
       "      <td>False</td>\n",
       "      <td>False</td>\n",
       "      <td>Efficity</td>\n",
       "      <td>MANDATARY</td>\n",
       "      <td>2019-08-25 13:53:00.000</td>\n",
       "      <td>2019-08-25 13:32:40.642</td>\n",
       "      <td>Levallois-Perret (92300)</td>\n",
       "      <td>(APARTMENT, (8, 10), 1.0)</td>\n",
       "    </tr>\n",
       "    <tr>\n",
       "      <th>253</th>\n",
       "      <td>2cc76880-c739-11e9-92d3-cb429fb9e457</td>\n",
       "      <td>https://www.leboncoin.fr/ventes_immobilieres/1...</td>\n",
       "      <td>LE_BON_COIN</td>\n",
       "      <td>APARTMENT</td>\n",
       "      <td>False</td>\n",
       "      <td>92300 LEVALLOIS-PERRET-SECTEUR RECHERCHE-BEAU ...</td>\n",
       "      <td>[\"https://pix.yanport.com/ads/2cc76880-c739-11...</td>\n",
       "      <td>9.0</td>\n",
       "      <td>1.0</td>\n",
       "      <td>False</td>\n",
       "      <td>...</td>\n",
       "      <td>True</td>\n",
       "      <td>False</td>\n",
       "      <td>False</td>\n",
       "      <td>False</td>\n",
       "      <td>M. Jean Philippe Blombo</td>\n",
       "      <td>AGENCY</td>\n",
       "      <td>2019-08-25 13:06:30.818</td>\n",
       "      <td>2019-08-25 13:06:30.818</td>\n",
       "      <td>Levallois-Perret (92300)</td>\n",
       "      <td>(APARTMENT, (8, 10), 1.0)</td>\n",
       "    </tr>\n",
       "    <tr>\n",
       "      <th>155</th>\n",
       "      <td>d1a9f960-4c6b-11e9-ba7a-0ff7ef4fe44b</td>\n",
       "      <td>https://immobilier.lefigaro.fr/annonces/annonc...</td>\n",
       "      <td>EXPLORIMMO</td>\n",
       "      <td>APARTMENT</td>\n",
       "      <td>False</td>\n",
       "      <td>louer une chambre à un étudiant 12 m², apparte...</td>\n",
       "      <td>[\"https://pix.yanport.com/ads/d1a9f960-4c6b-11...</td>\n",
       "      <td>9.0</td>\n",
       "      <td>1.0</td>\n",
       "      <td>True</td>\n",
       "      <td>...</td>\n",
       "      <td>True</td>\n",
       "      <td>False</td>\n",
       "      <td>False</td>\n",
       "      <td>False</td>\n",
       "      <td>Indefini</td>\n",
       "      <td>PRIVATE</td>\n",
       "      <td>2019-03-21 19:14:20.362</td>\n",
       "      <td>2019-06-29 00:48:36.821</td>\n",
       "      <td>Levallois-Perret (92300)</td>\n",
       "      <td>(APARTMENT, (8, 10), 1.0)</td>\n",
       "    </tr>\n",
       "    <tr>\n",
       "      <th>1166</th>\n",
       "      <td>594856d0-0931-11e7-a169-33011d0a7e82</td>\n",
       "      <td>http://www.avendrealouer.fr/location/levallois...</td>\n",
       "      <td>A_VENDRE_A_LOUER</td>\n",
       "      <td>APARTMENT</td>\n",
       "      <td>False</td>\n",
       "      <td>Levallois-Perret Proche ParisDans une copropri...</td>\n",
       "      <td>[]</td>\n",
       "      <td>9.0</td>\n",
       "      <td>1.0</td>\n",
       "      <td>False</td>\n",
       "      <td>...</td>\n",
       "      <td>True</td>\n",
       "      <td>False</td>\n",
       "      <td>False</td>\n",
       "      <td>False</td>\n",
       "      <td>Cabinet Vincent</td>\n",
       "      <td>AGENCY</td>\n",
       "      <td>2017-03-15 04:41:59.853</td>\n",
       "      <td>2017-04-14 17:27:00.273</td>\n",
       "      <td>Levallois-Perret (92300)</td>\n",
       "      <td>(APARTMENT, (8, 10), 1.0)</td>\n",
       "    </tr>\n",
       "    <tr>\n",
       "      <th>1465</th>\n",
       "      <td>c903e840-a2a9-11e9-96d9-fb3253f8fc6c</td>\n",
       "      <td>https://www.leboncoin.fr/locations/1643720638.htm</td>\n",
       "      <td>LE_BON_COIN</td>\n",
       "      <td>APARTMENT</td>\n",
       "      <td>False</td>\n",
       "      <td>STUDETTE MEUBLEE de 10m²\\nindépendante\\n\\nIDEA...</td>\n",
       "      <td>[\"https://img5.leboncoin.fr/ad-image/a87eb0d5c...</td>\n",
       "      <td>10.0</td>\n",
       "      <td>1.0</td>\n",
       "      <td>True</td>\n",
       "      <td>...</td>\n",
       "      <td>True</td>\n",
       "      <td>False</td>\n",
       "      <td>False</td>\n",
       "      <td>False</td>\n",
       "      <td>mariette</td>\n",
       "      <td>PRIVATE</td>\n",
       "      <td>2019-07-09 21:07:42.575</td>\n",
       "      <td>2019-07-25 02:14:53.772</td>\n",
       "      <td>Levallois-Perret (92300)</td>\n",
       "      <td>(APARTMENT, (9, 11), 1.0)</td>\n",
       "    </tr>\n",
       "    <tr>\n",
       "      <th>365</th>\n",
       "      <td>53167e00-9cfe-11e9-a8e6-0de7b497e456</td>\n",
       "      <td>https://www.leboncoin.fr/locations/1640477724.htm</td>\n",
       "      <td>LE_BON_COIN</td>\n",
       "      <td>APARTMENT</td>\n",
       "      <td>False</td>\n",
       "      <td>Bonjour, \\nNous louons un studio plein centre ...</td>\n",
       "      <td>[\"https://pix.yanport.com/ads/53167e00-9cfe-11...</td>\n",
       "      <td>10.0</td>\n",
       "      <td>1.0</td>\n",
       "      <td>True</td>\n",
       "      <td>...</td>\n",
       "      <td>True</td>\n",
       "      <td>False</td>\n",
       "      <td>False</td>\n",
       "      <td>False</td>\n",
       "      <td>Lmt</td>\n",
       "      <td>PRIVATE</td>\n",
       "      <td>2019-07-02 19:19:29.076</td>\n",
       "      <td>2019-07-18 02:13:30.175</td>\n",
       "      <td>Levallois-Perret (92300)</td>\n",
       "      <td>(APARTMENT, (9, 11), 1.0)</td>\n",
       "    </tr>\n",
       "    <tr>\n",
       "      <th>1150</th>\n",
       "      <td>609f06c0-2832-11e7-8609-9b009f55330d</td>\n",
       "      <td>http://www.leboncoin.fr/locations/1125323518.h...</td>\n",
       "      <td>LE_BON_COIN</td>\n",
       "      <td>APARTMENT</td>\n",
       "      <td>False</td>\n",
       "      <td>Levallois Perret - Angle Louise Michel / Mariu...</td>\n",
       "      <td>[\"http://img1.leboncoin.fr/ad-image/6b507b0b3a...</td>\n",
       "      <td>10.0</td>\n",
       "      <td>1.0</td>\n",
       "      <td>True</td>\n",
       "      <td>...</td>\n",
       "      <td>True</td>\n",
       "      <td>False</td>\n",
       "      <td>False</td>\n",
       "      <td>False</td>\n",
       "      <td>Mattei</td>\n",
       "      <td>PRIVATE</td>\n",
       "      <td>2017-04-23 14:37:24.520</td>\n",
       "      <td>2017-05-08 09:41:15.052</td>\n",
       "      <td>Levallois-Perret (92300)</td>\n",
       "      <td>(APARTMENT, (9, 11), 1.0)</td>\n",
       "    </tr>\n",
       "    <tr>\n",
       "      <th>40</th>\n",
       "      <td>618ef810-b9cb-11e9-81e9-5f24299f2ef3</td>\n",
       "      <td>https://immobilier.lefigaro.fr/annonces/annonc...</td>\n",
       "      <td>EXPLORIMMO</td>\n",
       "      <td>APARTMENT</td>\n",
       "      <td>False</td>\n",
       "      <td>Studio meublé Paris Levallois tout équipé (kit...</td>\n",
       "      <td>[\"https://pix.yanport.com/ads/618ef810-b9cb-11...</td>\n",
       "      <td>10.0</td>\n",
       "      <td>1.0</td>\n",
       "      <td>True</td>\n",
       "      <td>...</td>\n",
       "      <td>True</td>\n",
       "      <td>False</td>\n",
       "      <td>False</td>\n",
       "      <td>False</td>\n",
       "      <td>Indefini</td>\n",
       "      <td>PRIVATE</td>\n",
       "      <td>2019-08-08 10:57:53.161</td>\n",
       "      <td>2019-08-15 12:55:24.768</td>\n",
       "      <td>Levallois-Perret (92300)</td>\n",
       "      <td>(APARTMENT, (9, 11), 1.0)</td>\n",
       "    </tr>\n",
       "  </tbody>\n",
       "</table>\n",
       "<p>10 rows × 28 columns</p>\n",
       "</div>"
      ],
      "text/plain": [
       "                                        ID  \\\n",
       "257   2d5f9bf0-c75c-11e9-92d3-cb429fb9e457   \n",
       "1408  2a04c410-c74f-11e9-92d3-cb429fb9e457   \n",
       "254   d05cd220-c73c-11e9-92d3-cb429fb9e457   \n",
       "253   2cc76880-c739-11e9-92d3-cb429fb9e457   \n",
       "155   d1a9f960-4c6b-11e9-ba7a-0ff7ef4fe44b   \n",
       "1166  594856d0-0931-11e7-a169-33011d0a7e82   \n",
       "1465  c903e840-a2a9-11e9-96d9-fb3253f8fc6c   \n",
       "365   53167e00-9cfe-11e9-a8e6-0de7b497e456   \n",
       "1150  609f06c0-2832-11e7-8609-9b009f55330d   \n",
       "40    618ef810-b9cb-11e9-81e9-5f24299f2ef3   \n",
       "\n",
       "                                                    URL      CRAWL_SOURCE  \\\n",
       "257   https://www.avendrealouer.fr/vente/levallois-p...  A_VENDRE_A_LOUER   \n",
       "1408  https://www.paruvendu.fr/immobilier/vente/appa...        PARU_VENDU   \n",
       "254   https://www.seloger.com/annonces/achat/apparte...          SE_LOGER   \n",
       "253   https://www.leboncoin.fr/ventes_immobilieres/1...       LE_BON_COIN   \n",
       "155   https://immobilier.lefigaro.fr/annonces/annonc...        EXPLORIMMO   \n",
       "1166  http://www.avendrealouer.fr/location/levallois...  A_VENDRE_A_LOUER   \n",
       "1465  https://www.leboncoin.fr/locations/1643720638.htm       LE_BON_COIN   \n",
       "365   https://www.leboncoin.fr/locations/1640477724.htm       LE_BON_COIN   \n",
       "1150  http://www.leboncoin.fr/locations/1125323518.h...       LE_BON_COIN   \n",
       "40    https://immobilier.lefigaro.fr/annonces/annonc...        EXPLORIMMO   \n",
       "\n",
       "     PROPERTY_TYPE  NEW_BUILD  \\\n",
       "257      APARTMENT      False   \n",
       "1408     APARTMENT      False   \n",
       "254      APARTMENT      False   \n",
       "253      APARTMENT      False   \n",
       "155      APARTMENT      False   \n",
       "1166     APARTMENT      False   \n",
       "1465     APARTMENT      False   \n",
       "365      APARTMENT      False   \n",
       "1150     APARTMENT      False   \n",
       "40       APARTMENT      False   \n",
       "\n",
       "                                            DESCRIPTION  \\\n",
       "257   92300 LEVALLOIS-PERRET-SECTEUR RECHERCHE-BEAU ...   \n",
       "1408  T1 92300 LEVALLOIS-PERRET-SECTEUR RECHERCHE-BE...   \n",
       "254   92300 LEVALLOIS-PERRET-SECTEUR RECHERCHE-BEAU ...   \n",
       "253   92300 LEVALLOIS-PERRET-SECTEUR RECHERCHE-BEAU ...   \n",
       "155   louer une chambre à un étudiant 12 m², apparte...   \n",
       "1166  Levallois-Perret Proche ParisDans une copropri...   \n",
       "1465  STUDETTE MEUBLEE de 10m²\\nindépendante\\n\\nIDEA...   \n",
       "365   Bonjour, \\nNous louons un studio plein centre ...   \n",
       "1150  Levallois Perret - Angle Louise Michel / Mariu...   \n",
       "40    Studio meublé Paris Levallois tout équipé (kit...   \n",
       "\n",
       "                                                 IMAGES  SURFACE  ROOM_COUNT  \\\n",
       "257   [\"https://cf-medias.avendrealouer.fr/image/_11...      9.0         1.0   \n",
       "1408  [\"https://pix.yanport.com/ads/2a04c410-c74f-11...      9.0         1.0   \n",
       "254   [\"https://v.seloger.com/s/width/800/visuels/0/...      9.0         1.0   \n",
       "253   [\"https://pix.yanport.com/ads/2cc76880-c739-11...      9.0         1.0   \n",
       "155   [\"https://pix.yanport.com/ads/d1a9f960-4c6b-11...      9.0         1.0   \n",
       "1166                                                 []      9.0         1.0   \n",
       "1465  [\"https://img5.leboncoin.fr/ad-image/a87eb0d5c...     10.0         1.0   \n",
       "365   [\"https://pix.yanport.com/ads/53167e00-9cfe-11...     10.0         1.0   \n",
       "1150  [\"http://img1.leboncoin.fr/ad-image/6b507b0b3a...     10.0         1.0   \n",
       "40    [\"https://pix.yanport.com/ads/618ef810-b9cb-11...     10.0         1.0   \n",
       "\n",
       "      FURNISHED  ...  RENTAL_EXPENSES_INCLUDED FEES_INCLUDED  \\\n",
       "257       False  ...                      True         False   \n",
       "1408      False  ...                      True         False   \n",
       "254       False  ...                      True         False   \n",
       "253       False  ...                      True         False   \n",
       "155        True  ...                      True         False   \n",
       "1166      False  ...                      True         False   \n",
       "1465       True  ...                      True         False   \n",
       "365        True  ...                      True         False   \n",
       "1150       True  ...                      True         False   \n",
       "40         True  ...                      True         False   \n",
       "\n",
       "      EXCLUSIVE_MANDATE  OCCUPIED              DEALER_NAME  DEALER_TYPE  \\\n",
       "257               False     False                 Efficity    MANDATARY   \n",
       "1408              False     False                 Efficity    MANDATARY   \n",
       "254               False     False                 Efficity    MANDATARY   \n",
       "253               False     False  M. Jean Philippe Blombo       AGENCY   \n",
       "155               False     False                 Indefini      PRIVATE   \n",
       "1166              False     False          Cabinet Vincent       AGENCY   \n",
       "1465              False     False                 mariette      PRIVATE   \n",
       "365               False     False                      Lmt      PRIVATE   \n",
       "1150              False     False                   Mattei      PRIVATE   \n",
       "40                False     False                 Indefini      PRIVATE   \n",
       "\n",
       "       PUBLICATION_START_DATE          LAST_CRAWL_DATE  \\\n",
       "257   2019-08-25 17:17:11.436  2019-08-25 17:17:11.436   \n",
       "1408  2019-08-25 15:44:01.063  2019-08-25 15:44:01.063   \n",
       "254   2019-08-25 13:53:00.000  2019-08-25 13:32:40.642   \n",
       "253   2019-08-25 13:06:30.818  2019-08-25 13:06:30.818   \n",
       "155   2019-03-21 19:14:20.362  2019-06-29 00:48:36.821   \n",
       "1166  2017-03-15 04:41:59.853  2017-04-14 17:27:00.273   \n",
       "1465  2019-07-09 21:07:42.575  2019-07-25 02:14:53.772   \n",
       "365   2019-07-02 19:19:29.076  2019-07-18 02:13:30.175   \n",
       "1150  2017-04-23 14:37:24.520  2017-05-08 09:41:15.052   \n",
       "40    2019-08-08 10:57:53.161  2019-08-15 12:55:24.768   \n",
       "\n",
       "                  LOCALIZATION                  GROUP_KEY  \n",
       "257   Levallois-Perret (92300)  (APARTMENT, (8, 10), 1.0)  \n",
       "1408  Levallois-Perret (92300)  (APARTMENT, (8, 10), 1.0)  \n",
       "254   Levallois-Perret (92300)  (APARTMENT, (8, 10), 1.0)  \n",
       "253   Levallois-Perret (92300)  (APARTMENT, (8, 10), 1.0)  \n",
       "155   Levallois-Perret (92300)  (APARTMENT, (8, 10), 1.0)  \n",
       "1166  Levallois-Perret (92300)  (APARTMENT, (8, 10), 1.0)  \n",
       "1465  Levallois-Perret (92300)  (APARTMENT, (9, 11), 1.0)  \n",
       "365   Levallois-Perret (92300)  (APARTMENT, (9, 11), 1.0)  \n",
       "1150  Levallois-Perret (92300)  (APARTMENT, (9, 11), 1.0)  \n",
       "40    Levallois-Perret (92300)  (APARTMENT, (9, 11), 1.0)  \n",
       "\n",
       "[10 rows x 28 columns]"
      ]
     },
     "execution_count": 41,
     "metadata": {},
     "output_type": "execute_result"
    }
   ],
   "source": [
    "# on va creer une colonne group_key qui sera un tuple (PROPERTY_TYPE, SURFACE, ROOM_COUNT) avec une marge de 10% pour la surface\n",
    "def grouping_key(row):\n",
    "    surface_range = (round(row['SURFACE'] * 0.9), round(row['SURFACE'] * 1.1))\n",
    "    return (\n",
    "        row['PROPERTY_TYPE'],\n",
    "        surface_range,\n",
    "        row['ROOM_COUNT']\n",
    "    )\n",
    "\n",
    "\n",
    "df['GROUP_KEY'] = df.apply(grouping_key, axis=1)\n",
    "\n",
    "duplicate_groups = df.groupby('GROUP_KEY').filter(lambda x: len(x) > 1)\n",
    "\n",
    "\n",
    "duplicate_groups.sort_values(by='GROUP_KEY').head(10)"
   ]
  },
  {
   "cell_type": "code",
   "execution_count": 42,
   "id": "5b3c7414-1e95-459f-8962-eb0c07b9ed52",
   "metadata": {
    "tags": []
   },
   "outputs": [
    {
     "data": {
      "text/plain": [
       "(1902, 28)"
      ]
     },
     "execution_count": 42,
     "metadata": {},
     "output_type": "execute_result"
    }
   ],
   "source": [
    "duplicate_groups.shape"
   ]
  },
  {
   "cell_type": "code",
   "execution_count": 43,
   "id": "924d9d41-5191-4b44-8f1a-fdc1199b2371",
   "metadata": {
    "tags": []
   },
   "outputs": [
    {
     "data": {
      "text/plain": [
       "(PARKING, (50, 61), 2.0)        78\n",
       "(PARKING, (11, 13), 2.0)        40\n",
       "(APARTMENT, (44, 54), 2.0)      33\n",
       "(APARTMENT, (45, 55), 2.0)      32\n",
       "(APARTMENT, (43, 53), 2.0)      24\n",
       "                                ..\n",
       "(PREMISES, (58, 70), 0.0)        2\n",
       "(APARTMENT, (70, 85), 3.0)       2\n",
       "(APARTMENT, (27, 34), 1.0)       2\n",
       "(APARTMENT, (90, 110), 5.0)      2\n",
       "(APARTMENT, (157, 192), 6.0)     2\n",
       "Name: GROUP_KEY, Length: 307, dtype: int64"
      ]
     },
     "execution_count": 43,
     "metadata": {},
     "output_type": "execute_result"
    }
   ],
   "source": [
    "duplicate_groups.GROUP_KEY.value_counts()"
   ]
  },
  {
   "cell_type": "code",
   "execution_count": 44,
   "id": "33bbf82a-c2a5-4b72-a4ab-7d8764ce15c2",
   "metadata": {
    "tags": []
   },
   "outputs": [],
   "source": [
    "file_path = \"./grouped1_dataset_levallois_perret.csv\"\n",
    "df.to_csv(file_path, index=False)"
   ]
  },
  {
   "cell_type": "markdown",
   "id": "14097942-816b-4c82-b373-ab085ae64677",
   "metadata": {
    "tags": []
   },
   "source": [
    "\n",
    "#### Interpretation\n",
    "\n",
    "Avec cette premiere approche on obtient un regroupement plutot satisfaisant qui rassemble les biens ayant presque les memes propriétés (PROPERTY_TYPE, SURFACE, ROOM_COUNT). Cependant on peut avoir des incohérences.\n",
    "\n",
    "On peut par exemple retrouver dans un groupe une meme plateforme apparaissant plusieurs fois car plusieurs biens possèdent a peu près les mêmes propriétés mentionnés sans pour autant que ce soit les mêmes.\n",
    "\n",
    "On suppose pour cela qu'il y'a moins de chance de retrouver la même annonce sur la même plateforme plusieurs fois.\n",
    "\n",
    "----\n",
    "### Methode 2\n",
    "Nous allons donc rajouter un second critére qui n'accepte qu'une seul occurence d'une plateforme dans un même groupe."
   ]
  },
  {
   "cell_type": "code",
   "execution_count": 45,
   "id": "b42e48a3-e377-48d6-9ebf-7ac90d2fc42b",
   "metadata": {
    "tags": []
   },
   "outputs": [],
   "source": [
    "duplicate_groups2 = df.groupby(['GROUP_KEY', 'CRAWL_SOURCE']).first().reset_index()\n",
    "\n",
    "group_counts = duplicate_groups2.groupby('GROUP_KEY').size()\n",
    "\n",
    "# Supprimer les groupes avec un seul element\n",
    "groups_to_keep = group_counts[group_counts > 1].index\n",
    "\n",
    "duplicate_groups2 = duplicate_groups2[duplicate_groups2['GROUP_KEY'].isin(groups_to_keep)]\n"
   ]
  },
  {
   "cell_type": "code",
   "execution_count": 46,
   "id": "aee6896c-aa1e-4d88-a667-5c31d3f3dbfd",
   "metadata": {
    "tags": []
   },
   "outputs": [
    {
     "data": {
      "text/plain": [
       "(919, 28)"
      ]
     },
     "execution_count": 46,
     "metadata": {},
     "output_type": "execute_result"
    }
   ],
   "source": [
    "duplicate_groups2.shape"
   ]
  },
  {
   "cell_type": "code",
   "execution_count": 47,
   "id": "a8123757-49cd-472a-b8a9-3e4feeadf1aa",
   "metadata": {
    "tags": []
   },
   "outputs": [
    {
     "data": {
      "text/plain": [
       "(APARTMENT, (47, 57), 3.0)     10\n",
       "(APARTMENT, (32, 40), 2.0)      9\n",
       "(APARTMENT, (43, 53), 2.0)      9\n",
       "(APARTMENT, (44, 54), 2.0)      9\n",
       "(APARTMENT, (29, 35), 2.0)      9\n",
       "                               ..\n",
       "(APARTMENT, (78, 95), 4.0)      2\n",
       "(APARTMENT, (76, 92), 4.0)      2\n",
       "(APARTMENT, (73, 89), 3.0)      2\n",
       "(APARTMENT, (25, 31), 2.0)      2\n",
       "(APARTMENT, (83, 101), 4.0)     2\n",
       "Name: GROUP_KEY, Length: 227, dtype: int64"
      ]
     },
     "execution_count": 47,
     "metadata": {},
     "output_type": "execute_result"
    }
   ],
   "source": [
    "duplicate_groups2.GROUP_KEY.value_counts()"
   ]
  },
  {
   "cell_type": "code",
   "execution_count": 48,
   "id": "0a375cc8-022c-4786-919e-dd80fa7ffb1f",
   "metadata": {
    "tags": []
   },
   "outputs": [
    {
     "data": {
      "text/html": [
       "<div>\n",
       "<style scoped>\n",
       "    .dataframe tbody tr th:only-of-type {\n",
       "        vertical-align: middle;\n",
       "    }\n",
       "\n",
       "    .dataframe tbody tr th {\n",
       "        vertical-align: top;\n",
       "    }\n",
       "\n",
       "    .dataframe thead th {\n",
       "        text-align: right;\n",
       "    }\n",
       "</style>\n",
       "<table border=\"1\" class=\"dataframe\">\n",
       "  <thead>\n",
       "    <tr style=\"text-align: right;\">\n",
       "      <th></th>\n",
       "      <th>GROUP_KEY</th>\n",
       "      <th>CRAWL_SOURCE</th>\n",
       "      <th>ID</th>\n",
       "      <th>URL</th>\n",
       "      <th>PROPERTY_TYPE</th>\n",
       "      <th>NEW_BUILD</th>\n",
       "      <th>DESCRIPTION</th>\n",
       "      <th>IMAGES</th>\n",
       "      <th>SURFACE</th>\n",
       "      <th>ROOM_COUNT</th>\n",
       "      <th>...</th>\n",
       "      <th>PRICE_EVENTS</th>\n",
       "      <th>RENTAL_EXPENSES_INCLUDED</th>\n",
       "      <th>FEES_INCLUDED</th>\n",
       "      <th>EXCLUSIVE_MANDATE</th>\n",
       "      <th>OCCUPIED</th>\n",
       "      <th>DEALER_NAME</th>\n",
       "      <th>DEALER_TYPE</th>\n",
       "      <th>PUBLICATION_START_DATE</th>\n",
       "      <th>LAST_CRAWL_DATE</th>\n",
       "      <th>LOCALIZATION</th>\n",
       "    </tr>\n",
       "  </thead>\n",
       "  <tbody>\n",
       "    <tr>\n",
       "      <th>676</th>\n",
       "      <td>(APARTMENT, (78, 95), 4.0)</td>\n",
       "      <td>BIEN_ICI</td>\n",
       "      <td>8671d7c0-7c26-11e9-9d62-73a5c6d53b5c</td>\n",
       "      <td>https://www.bienici.com/annonce/era-282077</td>\n",
       "      <td>APARTMENT</td>\n",
       "      <td>False</td>\n",
       "      <td>A Levallois-Perret, Vue TOUR EIFFEL.Excellente...</td>\n",
       "      <td>[\"https://public.erafrance.com/assets/nas-era/...</td>\n",
       "      <td>86.37</td>\n",
       "      <td>4.0</td>\n",
       "      <td>...</td>\n",
       "      <td>[{\"price\":900000.0,\"date\":\"2019-05-22\"},{\"pric...</td>\n",
       "      <td>True</td>\n",
       "      <td>False</td>\n",
       "      <td>True</td>\n",
       "      <td>False</td>\n",
       "      <td>Era Immobilier Levallois</td>\n",
       "      <td>AGENCY</td>\n",
       "      <td>2019-05-21 05:38:19.358</td>\n",
       "      <td>2019-08-12 22:20:36.600</td>\n",
       "      <td>Levallois-Perret (92300)</td>\n",
       "    </tr>\n",
       "    <tr>\n",
       "      <th>677</th>\n",
       "      <td>(APARTMENT, (78, 95), 4.0)</td>\n",
       "      <td>SE_LOGER</td>\n",
       "      <td>4e1edca0-7ba0-11e9-9f13-59cc875fff96</td>\n",
       "      <td>https://www.seloger.com/annonces/achat/apparte...</td>\n",
       "      <td>APARTMENT</td>\n",
       "      <td>False</td>\n",
       "      <td>A Levallois-Perret, Vue Tour Eiffel. Excellent...</td>\n",
       "      <td>[\"https://v.seloger.com/s/width/800/visuels/0/...</td>\n",
       "      <td>86.37</td>\n",
       "      <td>4.0</td>\n",
       "      <td>...</td>\n",
       "      <td>[{\"price\":900000.0,\"date\":\"2019-05-21\"},{\"pric...</td>\n",
       "      <td>True</td>\n",
       "      <td>False</td>\n",
       "      <td>False</td>\n",
       "      <td>False</td>\n",
       "      <td>Era Immobilier Levallois</td>\n",
       "      <td>AGENCY</td>\n",
       "      <td>2019-05-21 08:13:22.914</td>\n",
       "      <td>2019-08-10 16:42:19.403</td>\n",
       "      <td>Levallois-Perret (92300)</td>\n",
       "    </tr>\n",
       "  </tbody>\n",
       "</table>\n",
       "<p>2 rows × 28 columns</p>\n",
       "</div>"
      ],
      "text/plain": [
       "                      GROUP_KEY CRAWL_SOURCE  \\\n",
       "676  (APARTMENT, (78, 95), 4.0)     BIEN_ICI   \n",
       "677  (APARTMENT, (78, 95), 4.0)     SE_LOGER   \n",
       "\n",
       "                                       ID  \\\n",
       "676  8671d7c0-7c26-11e9-9d62-73a5c6d53b5c   \n",
       "677  4e1edca0-7ba0-11e9-9f13-59cc875fff96   \n",
       "\n",
       "                                                   URL PROPERTY_TYPE  \\\n",
       "676         https://www.bienici.com/annonce/era-282077     APARTMENT   \n",
       "677  https://www.seloger.com/annonces/achat/apparte...     APARTMENT   \n",
       "\n",
       "     NEW_BUILD                                        DESCRIPTION  \\\n",
       "676      False  A Levallois-Perret, Vue TOUR EIFFEL.Excellente...   \n",
       "677      False  A Levallois-Perret, Vue Tour Eiffel. Excellent...   \n",
       "\n",
       "                                                IMAGES  SURFACE  ROOM_COUNT  \\\n",
       "676  [\"https://public.erafrance.com/assets/nas-era/...    86.37         4.0   \n",
       "677  [\"https://v.seloger.com/s/width/800/visuels/0/...    86.37         4.0   \n",
       "\n",
       "     ...                                       PRICE_EVENTS  \\\n",
       "676  ...  [{\"price\":900000.0,\"date\":\"2019-05-22\"},{\"pric...   \n",
       "677  ...  [{\"price\":900000.0,\"date\":\"2019-05-21\"},{\"pric...   \n",
       "\n",
       "     RENTAL_EXPENSES_INCLUDED FEES_INCLUDED  EXCLUSIVE_MANDATE  OCCUPIED  \\\n",
       "676                      True         False               True     False   \n",
       "677                      True         False              False     False   \n",
       "\n",
       "                  DEALER_NAME  DEALER_TYPE   PUBLICATION_START_DATE  \\\n",
       "676  Era Immobilier Levallois       AGENCY  2019-05-21 05:38:19.358   \n",
       "677  Era Immobilier Levallois       AGENCY  2019-05-21 08:13:22.914   \n",
       "\n",
       "             LAST_CRAWL_DATE              LOCALIZATION  \n",
       "676  2019-08-12 22:20:36.600  Levallois-Perret (92300)  \n",
       "677  2019-08-10 16:42:19.403  Levallois-Perret (92300)  \n",
       "\n",
       "[2 rows x 28 columns]"
      ]
     },
     "execution_count": 48,
     "metadata": {},
     "output_type": "execute_result"
    }
   ],
   "source": [
    "duplicate_groups2[duplicate_groups2['GROUP_KEY']==('APARTMENT', (78, 95), 4.0)]"
   ]
  },
  {
   "cell_type": "code",
   "execution_count": 49,
   "id": "fd099fc4-286e-45c3-ac93-abd4792c251a",
   "metadata": {
    "tags": []
   },
   "outputs": [
    {
     "name": "stdout",
     "output_type": "stream",
     "text": [
      "DESCRIPTION  1\n",
      "A Levallois-Perret, Vue TOUR EIFFEL.Excellente localisation, à proximité immédiate de Paris, des commerces et des transports. En étage élevé d'une résidence semi récente, bien entretenue et sécurisée avec gardien. Venez découvrir ce bel appartement 4 pièces de 86,37 m². Il se compose d'un double séjour jouissant d'un grand balcon exposé sud ouest sur parc, offrant une vue panoramique sur la Tour Eiffel, d'une cuisine indépendante, de 2 chambres (possibilité d'une 3ème chambre) , d'une salle de bains, d'une salle de douche, d'un dressing, d'un wc séparé et de nombreux rangements. Traversant, très lumineux et ensoleillé, sans vis à vis, au calme. Appartement climatisé, parfaitement entretenu. Aucun travaux de copropriété à prévoir. 1 cave et 1 parking complètent ce bien.\n",
      "--------------------\n",
      "Source:  BIEN_ICI\n",
      "\n",
      "\n",
      "DESCRIPTION  2\n",
      "A Levallois-Perret, Vue Tour Eiffel. Excellente localisation, à proximité immédiate de Paris, des commerces et des transports. En étage élevé d'une résidence semi récente, bien entretenue et sécurisée avec gardien. Venez découvrir ce bel appartement 4 pièces de 86,37 m². Il se compose d'un double séjour jouissant d'un grand balcon exposé sud ouest sur parc, offrant une vue panoramique sur la Tour Eiffel, d'une cuisine indépendante, de 2 chambres (possibilité d'une 3ème chambre), d'une salle de bains, d'une salle de douche, d'un dressing, d'un WC séparé et de nombreux rangements. Traversant, très lumineux et ensoleillé, sans vis à vis, au calme. Appartement climatisé, parfaitement entretenu. Aucun travaux de copropriété à prévoir. 1 cave et 1 parking complètent ce bien.\n",
      "--------------------\n",
      "Source:  SE_LOGER\n",
      "\n",
      "\n"
     ]
    }
   ],
   "source": [
    "DESC = duplicate_groups2[duplicate_groups2['GROUP_KEY']==('APARTMENT', (78, 95), 4.0)].DESCRIPTION.to_list()\n",
    "SOURCE = duplicate_groups2[duplicate_groups2['GROUP_KEY']==('APARTMENT', (78, 95), 4.0)].CRAWL_SOURCE.to_list()\n",
    "for i in range(len(DESC)):\n",
    "    print(\"DESCRIPTION \", i+1)\n",
    "    print(DESC[i])\n",
    "    print(\"--\"*10)\n",
    "    print(\"Source: \", SOURCE[i])\n",
    "    print()\n",
    "    print()"
   ]
  },
  {
   "cell_type": "markdown",
   "id": "d1b0f303-b0d7-43a6-a112-acb9a94c1b8c",
   "metadata": {},
   "source": [
    "---\n",
    "#### Interpretation\n",
    "\n",
    "On peut voir que ces deux annoncees sont les mêmes et qu'elles ont été faites dans deux sites différents (**BIEN_ICI**, **SE_LOGER**)\n",
    "\n",
    "---"
   ]
  },
  {
   "cell_type": "code",
   "execution_count": 50,
   "id": "7838f65a-ce20-4126-b0cd-20bc28c5a29a",
   "metadata": {
    "tags": []
   },
   "outputs": [],
   "source": [
    "file_path = \"./grouped2_dataset_levallois_perret.csv\"\n",
    "duplicate_groups2.to_csv(file_path, index=False)"
   ]
  },
  {
   "cell_type": "code",
   "execution_count": null,
   "id": "81d403fa-c7ec-4943-bf90-7c60d645f58f",
   "metadata": {},
   "outputs": [],
   "source": []
  },
  {
   "cell_type": "markdown",
   "id": "6b6ec7d9-0bfe-4750-abb2-ebbffae11b20",
   "metadata": {},
   "source": [
    "### Visualisation Streamlit"
   ]
  },
  {
   "cell_type": "markdown",
   "id": "fce86389-4eaa-4f1a-8bda-3809869ab292",
   "metadata": {
    "tags": []
   },
   "source": [
    "Certaines images sont difficiles a recuperer via requests. Nous allons utiliser Streamlit pour les afficher dans une interface conviviale"
   ]
  },
  {
   "cell_type": "code",
   "execution_count": null,
   "id": "1b10a579-3781-48c8-8ee6-bf80b11cc058",
   "metadata": {
    "tags": []
   },
   "outputs": [],
   "source": [
    "!pip install streamlit"
   ]
  },
  {
   "cell_type": "markdown",
   "id": "61fe59d9-f9f8-4c8d-8992-ef8b456db014",
   "metadata": {},
   "source": [
    "![image](./captures/img1.png) ![image](./captures/img2.png) ![image](./captures/img3.png)"
   ]
  },
  {
   "cell_type": "markdown",
   "id": "3b7b0154-a15b-4b04-be20-2ac0a378206f",
   "metadata": {},
   "source": [
    "Pour tester par vous meme lancer le script stremlit avec les commandes suivantes:\n",
    "\n",
    "```bash\n",
    "cd streamlit_app\n",
    "\n",
    "streamlit run streamlit_app.py\n",
    "```\n",
    "\n",
    "Puis se rendre sur [http://localhost:8501/](http://localhost:8501/)\n",
    "\n",
    "\n",
    "Remarques: Ces resultats ont besoin d'une validation manuelle pour plus de sureté."
   ]
  },
  {
   "cell_type": "markdown",
   "id": "b23e2da9-ca16-44c6-b561-450877f88970",
   "metadata": {},
   "source": [
    "### Approche ML\n",
    "\n",
    "Afin de pousser l'analyse un peu plus loin et espèrer de meilleur résultat on peut adopter des méthodes de Machine Learning pour voir les annonces similaires et ainsi efficacement regrouper voir aggreger sur une seul plateforme.\n",
    "\n",
    "Parmi ces methodes on peut comparer les descriptions des annonces.\n",
    "Concretement on peut soit entrainer un modèle sur les descriptions et ainsi faire un clustering (ex DBSCAN pour identifier des clusters de densités variées).\n",
    "\n",
    "Cela dit vu la taille faible de nos données on ne peut pas espérer de meilleurs résultats.\n",
    "\n",
    "Une solution pourrait être d'utiliser un modéle pré-entrainé sur huggingface par ex."
   ]
  },
  {
   "cell_type": "code",
   "execution_count": null,
   "id": "5cd53f28-37b3-47c2-ab6e-170ed327a684",
   "metadata": {},
   "outputs": [],
   "source": []
  }
 ],
 "metadata": {
  "kernelspec": {
   "display_name": "Python 3 (ipykernel)",
   "language": "python",
   "name": "python3"
  },
  "language_info": {
   "codemirror_mode": {
    "name": "ipython",
    "version": 3
   },
   "file_extension": ".py",
   "mimetype": "text/x-python",
   "name": "python",
   "nbconvert_exporter": "python",
   "pygments_lexer": "ipython3",
   "version": "3.11.4"
  },
  "toc-showcode": false,
  "toc-showtags": false
 },
 "nbformat": 4,
 "nbformat_minor": 5
}
